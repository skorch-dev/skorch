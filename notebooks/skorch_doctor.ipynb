{
 "cells": [
  {
   "cell_type": "markdown",
   "metadata": {},
   "source": [
    "# skorch doctor"
   ]
  },
  {
   "cell_type": "markdown",
   "metadata": {},
   "source": [
    "Use tips from Andrej Karpathy on how to better understand the neural net and diagnose potential errors.\n",
    "\n",
    "Sources:\n",
    "\n",
    "- https://karpathy.github.io/2019/04/25/recipe/\n",
    "- https://www.youtube.com/watch?v=P6sfmUTpUmc\n",
    "    \n",
    "The `SkorchDoctor` class tries to automate as much as possible from those tips."
   ]
  },
  {
   "cell_type": "markdown",
   "metadata": {},
   "source": [
    "## Imports"
   ]
  },
  {
   "cell_type": "code",
   "execution_count": 1,
   "metadata": {},
   "outputs": [],
   "source": [
    "from functools import partial\n",
    "from itertools import islice"
   ]
  },
  {
   "cell_type": "code",
   "execution_count": 2,
   "metadata": {},
   "outputs": [],
   "source": [
    "import numpy as np\n",
    "import matplotlib.pyplot as plt\n",
    "from sklearn.datasets import make_classification\n",
    "import torch\n",
    "from torch import nn\n",
    "import torch.nn.functional as F"
   ]
  },
  {
   "cell_type": "code",
   "execution_count": 3,
   "metadata": {},
   "outputs": [],
   "source": [
    "from skorch import NeuralNetClassifier\n",
    "from skorch.utils import to_numpy\n",
    "from skorch.callbacks import Callback"
   ]
  },
  {
   "cell_type": "code",
   "execution_count": 4,
   "metadata": {},
   "outputs": [],
   "source": [
    "torch.manual_seed(0)\n",
    "torch.cuda.manual_seed(0)"
   ]
  },
  {
   "cell_type": "markdown",
   "metadata": {},
   "source": [
    "## New code"
   ]
  },
  {
   "cell_type": "code",
   "execution_count": 5,
   "metadata": {},
   "outputs": [],
   "source": [
    "def add_activation_hooks(net):\n",
    "    activations = {}\n",
    "    handles = []\n",
    "    def activation_hook(model, input, output, *, name):\n",
    "        activations[name] = to_numpy(output)\n",
    "\n",
    "    for module_name in net._modules + net._criteria:\n",
    "        module = getattr(net, module_name + '_')\n",
    "        if not isinstance(module, torch.nn.Module):\n",
    "            continue\n",
    "\n",
    "        handle = module.register_forward_hook(partial(activation_hook, name=module_name.upper()))\n",
    "        handles.append(handle)\n",
    "\n",
    "        for name, submodule in module.named_modules():\n",
    "            if submodule is module:\n",
    "                continue\n",
    "\n",
    "            handle = submodule.register_forward_hook(partial(activation_hook, name=name))\n",
    "            handles.append(handle)\n",
    "\n",
    "    return activations, handles"
   ]
  },
  {
   "cell_type": "code",
   "execution_count": 6,
   "metadata": {},
   "outputs": [],
   "source": [
    "def add_grad_hooks(net):\n",
    "    grads = {}\n",
    "    handles = []\n",
    "    def grad_hook(grad, *, name):\n",
    "        grads[name] = to_numpy(grad)\n",
    "\n",
    "    for module_name in net._modules + net._criteria:\n",
    "        module = getattr(net, module_name + '_')\n",
    "        if not isinstance(module, torch.nn.Module):\n",
    "            continue\n",
    "\n",
    "        for name, tensor in module.named_parameters():\n",
    "            if tensor.requires_grad:\n",
    "                handle = tensor.register_hook(partial(grad_hook, name=name))\n",
    "                handles.append(handle)\n",
    "\n",
    "    return grads, handles"
   ]
  },
  {
   "cell_type": "code",
   "execution_count": 7,
   "metadata": {},
   "outputs": [],
   "source": [
    "class LogActivationsGradients(Callback):\n",
    "    def __init__(\n",
    "        self,\n",
    "        activation_logs,\n",
    "        gradient_logs,\n",
    "        param_update_logs,\n",
    "        activations,\n",
    "        gradients\n",
    "    ):\n",
    "        self.activation_logs = activation_logs\n",
    "        self.gradient_logs = gradient_logs\n",
    "        self.param_update_logs = param_update_logs\n",
    "        self.activations = activations\n",
    "        self.gradients = gradients\n",
    "        \n",
    "    def on_epoch_begin(self, net, **kwargs):\n",
    "        self.activation_logs.append([])\n",
    "        self.gradient_logs.append([])\n",
    "        self.param_update_logs.append([])\n",
    "\n",
    "    def on_batch_end(self, net, batch=None, training=False, **kwargs):\n",
    "        if not training:\n",
    "            return\n",
    "\n",
    "        update = {}\n",
    "        for key, param in net.get_all_learnable_params():\n",
    "            grad = self.gradients[key]\n",
    "            update[key] = (grad.std() / param.std()).item()\n",
    "        self.param_update_logs[-1].append(update)\n",
    "\n",
    "        breakpoint()\n",
    "        self.activation_logs[-1].append(self.activations.copy())\n",
    "        self.activations.clear()\n",
    "        self.gradient_logs[-1].append(self.gradients.copy())\n",
    "        self.gradients.clear()\n",
    "\n",
    "        return self"
   ]
  },
  {
   "cell_type": "code",
   "execution_count": 8,
   "metadata": {},
   "outputs": [],
   "source": [
    "def flatten(items):\n",
    "    for item in items:\n",
    "        if isinstance(item, (list, tuple)):\n",
    "            yield from flatten(item)\n",
    "        else:\n",
    "            yield item"
   ]
  },
  {
   "cell_type": "code",
   "execution_count": 9,
   "metadata": {},
   "outputs": [],
   "source": [
    "class SkorchDoctor:\n",
    "    def __init__(self, net):\n",
    "        self.net = net\n",
    "        \n",
    "    def add_callback(self, net, name, callback):\n",
    "        if net.callbacks is None:\n",
    "            net.callbacks = [(name, callback)]\n",
    "        else:\n",
    "            net.callbacks.append((name, callback))\n",
    "        net.initialize_callbacks()\n",
    "\n",
    "    def initialize(self):\n",
    "        self.fitted = False\n",
    "        self.handles_ = []\n",
    "        self.activation_logs_ = []\n",
    "        self.gradient_logs_ = []\n",
    "        self.param_update_logs_ = []\n",
    "\n",
    "        if not net.initialized_:\n",
    "            self.net.initialize()\n",
    "\n",
    "        activations, ahandles = add_activation_hooks(net)\n",
    "        self.activations_ = activations\n",
    "        self.handles_.extend(ahandles)\n",
    "\n",
    "        gradients, ghandles = add_grad_hooks(net)\n",
    "        self.gradients_ = gradients\n",
    "        self.handles_.extend(ghandles)\n",
    "\n",
    "        cb = LogActivationsGradients(\n",
    "            activation_logs=self.activation_logs_,\n",
    "            gradient_logs=self.gradient_logs_,\n",
    "            param_update_logs=self.param_update_logs_,\n",
    "            activations=self.activations_,\n",
    "            gradients=self.gradients_,\n",
    "        )\n",
    "        self.add_callback(self.net, 'log_activations_gradients', cb)\n",
    "        return self\n",
    "\n",
    "    def remove_callback(self, net, callback_name):\n",
    "        indices = []\n",
    "        for i, callback in enumerate(net.callbacks):\n",
    "            if not isinstance(callback, tuple):\n",
    "                continue\n",
    "            name, _ = callback\n",
    "            if name == callback_name:\n",
    "                indices.append(i)\n",
    "\n",
    "        for i in indices[::-1]:\n",
    "            del net.callbacks[i]\n",
    "\n",
    "        indices = []\n",
    "        for i, (name, _) in enumerate(net.callbacks_):\n",
    "            if name == callback_name:\n",
    "                indices.append(i)\n",
    "             \n",
    "        for i in indices[::-1]:\n",
    "            del net.callbacks_[i]\n",
    "\n",
    "    def clean_up(self):\n",
    "        for handle in self.handles_:\n",
    "            handle.remove()\n",
    "\n",
    "        #self.remove_callback(net, 'param_update')\n",
    "        self.remove_callback(net, 'log_activations_gradients')\n",
    "\n",
    "    # TODO: not used\n",
    "    def ___make_report(self):\n",
    "        # only training related data, not valid\n",
    "        rows = []\n",
    "        history = self.net.history\n",
    "\n",
    "        for epoch in range(len(history)):\n",
    "            epoch_activations = self.activation_logs_[epoch]\n",
    "            epoch_gradients = self.gradient_logs_[epoch]\n",
    "            epoch_params_updates = self.param_update_logs_[epoch]\n",
    "\n",
    "            for batch in range(len(epoch_activations)):\n",
    "                batch_activations = epoch_activations[batch]\n",
    "                batch_gradients = epoch_gradients[batch]\n",
    "                batch_param_updates = epoch_params_updates[batch]\n",
    "\n",
    "                row = {\n",
    "                    # start counting at 1\n",
    "                    'epoch': epoch + 1,\n",
    "                    'batch': batch + 1,\n",
    "                    'train_batch_size': history[epoch, 'batches', batch, 'train_batch_size'],\n",
    "                }\n",
    "\n",
    "                for module_name, val in batch_activations.items():\n",
    "                    row[f'mean_abs_activity_{module_name}'] = np.abs(val).mean()\n",
    "\n",
    "                for param_name, val in batch_gradients.items():\n",
    "                    row[f'mean_abs_gradient_{param_name}'] = np.abs(val).mean()\n",
    "\n",
    "                for param_name, val in batch_param_updates.items():\n",
    "                    row[f'mean_relative_param_update_{param_name}'] = val\n",
    "\n",
    "                rows.append(row)\n",
    "\n",
    "        df = pd.DataFrame(rows)\n",
    "        return df\n",
    "\n",
    "    # TODO: not used\n",
    "    def ___aggregate_batch_report(self, df):\n",
    "        \"\"\"Aggregate from batch level to epoch level\"\"\"\n",
    "        def reduce_epoch(dfg):\n",
    "            keys = [key for key in dfg if key.startswith('mean')]\n",
    "            batch_sizes = dfg['train_batch_size'].values\n",
    "            aggregated = {key: np.average(dfg[key].values, weights=batch_sizes) for key in keys}\n",
    "            return aggregated\n",
    "\n",
    "        df_agg = df.groupby('epoch').apply(reduce_epoch)\n",
    "        df_agg = pd.DataFrame([df_agg.values[i] for i in range(len(df_agg))])\n",
    "        return df_agg\n",
    "\n",
    "    def fit(self, X, y):\n",
    "        self.initialize()\n",
    "        try:\n",
    "            self.net.partial_fit(X, y)\n",
    "        finally:\n",
    "            self.clean_up()\n",
    "\n",
    "        # The idea here is to have something similar to cv_results_, but not sure if it's useful\n",
    "        # self.report_batch_ = self.make_report()\n",
    "        # self.report_epoch_ = self.aggregate_batch_report(self.report_batch_)\n",
    "        self.num_steps_ = sum(1 for _ in flatten(self.activation_logs_))\n",
    "\n",
    "        self.fitted_ = True\n",
    "        return self\n",
    "    \n",
    "    def plot_loss(self, ax=None, **kwargs):\n",
    "        assert self.fitted_\n",
    "        \n",
    "        ax = ax or plt.subplots()[1]\n",
    "        history = self.net.history\n",
    "        xvec = np.arange(len(history)) + 1\n",
    "        ax.plot(xvec, history[:, 'train_loss'], label='train')\n",
    "        \n",
    "        if 'valid_loss' in history[0]:\n",
    "            ax.plot(xvec, history[:, 'valid_loss'], label='valid', **kwargs)\n",
    "            \n",
    "        ax.set_xlabel('epoch')\n",
    "        ax.set_ylabel('loss')\n",
    "        ax.legend()\n",
    "        ax.set_title('loss over time')\n",
    "        return ax\n",
    "    \n",
    "    def plot_activations(self, step=-1, ax=None, histtype='step', lw=2, bins=None, density=True, **kwargs):\n",
    "        assert self.fitted_\n",
    "        \n",
    "        ax = ax or plt.subplots()[1]\n",
    "        activations = list(flatten(self.activation_logs_))[step]\n",
    "        if bins is None:\n",
    "            bin_min = min(a.min() for a in activations.values())\n",
    "            bin_max = max(a.max() for a in activations.values())\n",
    "            bins = np.linspace(bin_min, bin_max, 30)\n",
    "\n",
    "        for key, val in activations.items():\n",
    "            if val.ndim:\n",
    "                ax.hist(val.flatten(), label=key, histtype=histtype, lw=lw, bins=bins, density=density, **kwargs)\n",
    "        ax.legend()\n",
    "        ax.set_title(\"distribution of activations\")\n",
    "        return ax\n",
    "    \n",
    "    def plot_gradients(self, step=-1, ax=None, histtype='step', lw=2, bins=None, density=True, **kwargs):\n",
    "        assert self.fitted_\n",
    "        \n",
    "        ax = ax or plt.subplots()[1]\n",
    "        gradients = list(flatten(self.gradient_logs_))[step]\n",
    "        if bins is None:\n",
    "            bin_min = min(g.min() for g in gradients.values())\n",
    "            bin_max = max(g.max() for g in gradients.values())\n",
    "            bins = np.linspace(bin_min, bin_max, 30)\n",
    "\n",
    "        for key, val in gradients.items():\n",
    "            if val.ndim:\n",
    "                ax.hist(val.flatten(), label=key, histtype=\"step\", lw=2, bins=bins, density=True, **kwargs)\n",
    "        ax.legend()\n",
    "        ax.set_title(\"distribution of gradients\")\n",
    "        return ax\n",
    "\n",
    "    def plot_param_updates(self, ax=None, **kwargs):\n",
    "        assert self.fitted_\n",
    "\n",
    "        ax = ax or plt.subplots()[1]\n",
    "        param_updates = list(flatten(self.param_update_logs_))\n",
    "        keys = param_updates[0].keys()\n",
    "        \n",
    "        for key in keys:\n",
    "            values = [np.log10(update[key]) for update in param_updates]\n",
    "            xvec = np.arange(1, len(values) + 1)\n",
    "            ax.plot(xvec, values, label=key)\n",
    "        ax.set_xlabel(\"step\")\n",
    "        ax.set_ylabel(\"log10 of stdev of relative parameter updates\")\n",
    "        ax.legend()\n",
    "        \n",
    "        return ax"
   ]
  },
  {
   "cell_type": "markdown",
   "metadata": {},
   "source": [
    "### A toy binary classification task"
   ]
  },
  {
   "cell_type": "markdown",
   "metadata": {},
   "source": [
    "We load a toy classification task from `sklearn`."
   ]
  },
  {
   "cell_type": "code",
   "execution_count": 10,
   "metadata": {},
   "outputs": [],
   "source": [
    "X, y = make_classification(1000, 20, n_informative=10, random_state=0)\n",
    "X, y = X.astype(np.float32), y.astype(np.int64)"
   ]
  },
  {
   "cell_type": "code",
   "execution_count": 11,
   "metadata": {
    "scrolled": true
   },
   "outputs": [
    {
     "data": {
      "text/plain": [
       "((1000, 20), (1000,), 0.5)"
      ]
     },
     "execution_count": 11,
     "metadata": {},
     "output_type": "execute_result"
    }
   ],
   "source": [
    "X.shape, y.shape, y.mean()"
   ]
  },
  {
   "cell_type": "markdown",
   "metadata": {},
   "source": [
    "### Definition of the `pytorch` classification `module`"
   ]
  },
  {
   "cell_type": "code",
   "execution_count": 12,
   "metadata": {},
   "outputs": [],
   "source": [
    "class ClassifierModule(nn.Module):\n",
    "    def __init__(\n",
    "            self,\n",
    "            num_units=10,\n",
    "            nonlin=F.relu,\n",
    "            dropout=0.5,\n",
    "    ):\n",
    "        super(ClassifierModule, self).__init__()\n",
    "        self.num_units = num_units\n",
    "        self.nonlin = nonlin\n",
    "        self.dropout = dropout\n",
    "\n",
    "        self.dense0 = nn.Linear(20, self.num_units)\n",
    "        self.nonlin = self.nonlin\n",
    "        self.dropout = nn.Dropout(self.dropout)\n",
    "        self.dense1 = nn.Linear(self.num_units, self.num_units)\n",
    "        self.output = nn.Linear(self.num_units, 2)\n",
    "\n",
    "    def forward(self, X, **kwargs):\n",
    "        X = self.nonlin(self.dense0(X))\n",
    "        X = self.dropout(X)\n",
    "        X = F.relu(self.dense1(X))\n",
    "        X = F.softmax(self.output(X), dim=-1)\n",
    "        return X"
   ]
  },
  {
   "cell_type": "code",
   "execution_count": 13,
   "metadata": {},
   "outputs": [],
   "source": [
    "net = NeuralNetClassifier(\n",
    "    ClassifierModule,\n",
    "    max_epochs=5,\n",
    "    lr=0.1,\n",
    "    batch_size=64,\n",
    ")"
   ]
  },
  {
   "cell_type": "markdown",
   "metadata": {},
   "source": [
    "## Use skorch doctor"
   ]
  },
  {
   "cell_type": "markdown",
   "metadata": {},
   "source": [
    "### Train the doctor first"
   ]
  },
  {
   "cell_type": "markdown",
   "metadata": {},
   "source": [
    "It's sufficient to use a small amount of data"
   ]
  },
  {
   "cell_type": "code",
   "execution_count": 14,
   "metadata": {},
   "outputs": [],
   "source": [
    "doctor = SkorchDoctor(net)"
   ]
  },
  {
   "cell_type": "code",
   "execution_count": 15,
   "metadata": {
    "scrolled": false
   },
   "outputs": [
    {
     "name": "stdout",
     "output_type": "stream",
     "text": [
      "  epoch    train_loss    valid_acc    valid_loss     dur\n",
      "-------  ------------  -----------  ------------  ------\n",
      "      1        \u001b[36m0.6913\u001b[0m       \u001b[32m0.6000\u001b[0m        \u001b[35m0.6635\u001b[0m  0.0127\n",
      "      2        \u001b[36m0.6642\u001b[0m       0.5500        \u001b[35m0.6603\u001b[0m  0.0053\n",
      "      3        0.6834       0.6000        \u001b[35m0.6589\u001b[0m  0.0054\n",
      "      4        0.6783       \u001b[32m0.7000\u001b[0m        \u001b[35m0.6556\u001b[0m  0.0072\n",
      "      5        \u001b[36m0.6499\u001b[0m       0.6500        0.6588  0.0069\n"
     ]
    },
    {
     "data": {
      "text/plain": [
       "<__main__.SkorchDoctor at 0x7f064b234d60>"
      ]
     },
     "execution_count": 15,
     "metadata": {},
     "output_type": "execute_result"
    }
   ],
   "source": [
    "doctor.fit(X[:100], y[:100])"
   ]
  },
  {
   "cell_type": "markdown",
   "metadata": {},
   "source": [
    "### Inspect data"
   ]
  },
  {
   "cell_type": "markdown",
   "metadata": {},
   "source": [
    "For each epoch and each batch, store the activations, gradients, and parameter updates. The data is thus stored in lists (epochs) of lists (batches) of dictionaries (module/parameter names)."
   ]
  },
  {
   "cell_type": "markdown",
   "metadata": {},
   "source": [
    "#### example: activations"
   ]
  },
  {
   "cell_type": "markdown",
   "metadata": {},
   "source": [
    "Example: Get the mean abs activation of each layer in the batch of the first epoch. `MODULE` and `CRITIERION` correspond to the `net.module_` and `net.criterion_`."
   ]
  },
  {
   "cell_type": "code",
   "execution_count": 16,
   "metadata": {},
   "outputs": [
    {
     "name": "stdout",
     "output_type": "stream",
     "text": [
      "mean activation of layer dense0   : 0.9948\n",
      "mean activation of layer dropout  : 0.5156\n",
      "mean activation of layer dense1   : 0.5101\n",
      "mean activation of layer output   : 0.1840\n",
      "mean activation of layer MODULE   : 0.5000\n",
      "mean activation of layer CRITERION: 0.7232\n"
     ]
    }
   ],
   "source": [
    "for key, val in doctor.activation_logs_[0][-1].items():\n",
    "    print(f\"mean activation of layer {key:<9}: {np.abs(val).mean():.4f}\")"
   ]
  },
  {
   "cell_type": "markdown",
   "metadata": {},
   "source": [
    "#### example: gradients"
   ]
  },
  {
   "cell_type": "markdown",
   "metadata": {},
   "source": [
    "Example: Get the mean abs gradient of each parameter from the first batch of the second epoch."
   ]
  },
  {
   "cell_type": "code",
   "execution_count": 17,
   "metadata": {},
   "outputs": [
    {
     "name": "stdout",
     "output_type": "stream",
     "text": [
      "mean activation of layer output.bias   : 0.0753\n",
      "mean activation of layer output.weight : 0.0212\n",
      "mean activation of layer dense1.bias   : 0.0128\n",
      "mean activation of layer dense1.weight : 0.0093\n",
      "mean activation of layer dense0.bias   : 0.0066\n",
      "mean activation of layer dense0.weight : 0.0082\n"
     ]
    }
   ],
   "source": [
    "for key, val in doctor.gradient_logs_[1][0].items():\n",
    "    print(f\"mean activation of layer {key:<14}: {np.abs(val).mean():.4f}\")"
   ]
  },
  {
   "cell_type": "markdown",
   "metadata": {},
   "source": [
    "### Plot train and validation loss"
   ]
  },
  {
   "cell_type": "code",
   "execution_count": 18,
   "metadata": {},
   "outputs": [
    {
     "data": {
      "image/png": "[encoded data removed]",
      "text/plain": [
       "<Figure size 864x432 with 1 Axes>"
      ]
     },
     "metadata": {
      "needs_background": "light"
     },
     "output_type": "display_data"
    }
   ],
   "source": [
    "_, ax = plt.subplots(figsize=(12, 6))\n",
    "doctor.plot_loss(ax=ax)\n",
    "ax.set_ylim([0.5, 0.8]);"
   ]
  },
  {
   "cell_type": "markdown",
   "metadata": {},
   "source": [
    "### Plot distribution of activations of each layer"
   ]
  },
  {
   "cell_type": "markdown",
   "metadata": {},
   "source": [
    "#### first step"
   ]
  },
  {
   "cell_type": "code",
   "execution_count": 19,
   "metadata": {},
   "outputs": [
    {
     "data": {
      "image/png": "[encoded data removed]",
      "text/plain": [
       "<Figure size 864x432 with 1 Axes>"
      ]
     },
     "metadata": {
      "needs_background": "light"
     },
     "output_type": "display_data"
    }
   ],
   "source": [
    "_, ax = plt.subplots(figsize=(12, 6))\n",
    "doctor.plot_activations(ax=ax, step=0);"
   ]
  },
  {
   "cell_type": "markdown",
   "metadata": {},
   "source": [
    "#### last step (default)"
   ]
  },
  {
   "cell_type": "code",
   "execution_count": 20,
   "metadata": {},
   "outputs": [
    {
     "data": {
      "image/png": "[encoded data removed]",
      "text/plain": [
       "<Figure size 864x432 with 1 Axes>"
      ]
     },
     "metadata": {
      "needs_background": "light"
     },
     "output_type": "display_data"
    }
   ],
   "source": [
    "_, ax = plt.subplots(figsize=(12, 6))\n",
    "doctor.plot_activations(ax=ax);"
   ]
  },
  {
   "cell_type": "markdown",
   "metadata": {},
   "source": [
    "### Show gradients of each parameter"
   ]
  },
  {
   "cell_type": "markdown",
   "metadata": {},
   "source": [
    "#### first step"
   ]
  },
  {
   "cell_type": "code",
   "execution_count": 21,
   "metadata": {},
   "outputs": [
    {
     "data": {
      "image/png": "[encoded data removed]",
      "text/plain": [
       "<Figure size 864x432 with 1 Axes>"
      ]
     },
     "metadata": {
      "needs_background": "light"
     },
     "output_type": "display_data"
    }
   ],
   "source": [
    "_, ax = plt.subplots(figsize=(12, 6))\n",
    "doctor.plot_gradients(ax=ax, step=0);"
   ]
  },
  {
   "cell_type": "markdown",
   "metadata": {},
   "source": [
    "#### last step (default)"
   ]
  },
  {
   "cell_type": "code",
   "execution_count": 22,
   "metadata": {},
   "outputs": [
    {
     "data": {
      "image/png": "[encoded data removed]",
      "text/plain": [
       "<Figure size 864x432 with 1 Axes>"
      ]
     },
     "metadata": {
      "needs_background": "light"
     },
     "output_type": "display_data"
    }
   ],
   "source": [
    "_, ax = plt.subplots(figsize=(12, 6))\n",
    "doctor.plot_activations(ax=ax, step=0);"
   ]
  },
  {
   "cell_type": "markdown",
   "metadata": {},
   "source": [
    "### Show parameter updates over time"
   ]
  },
  {
   "cell_type": "markdown",
   "metadata": {},
   "source": [
    "See https://youtu.be/P6sfmUTpUmc?t=5995"
   ]
  },
  {
   "cell_type": "code",
   "execution_count": 23,
   "metadata": {},
   "outputs": [
    {
     "data": {
      "image/png": "[encoded data removed]",
      "text/plain": [
       "<Figure size 864x432 with 1 Axes>"
      ]
     },
     "metadata": {
      "needs_background": "light"
     },
     "output_type": "display_data"
    }
   ],
   "source": [
    "_, ax = plt.subplots(figsize=(12, 6))\n",
    "doctor.plot_param_updates(ax=ax);"
   ]
  },
  {
   "cell_type": "code",
   "execution_count": null,
   "metadata": {},
   "outputs": [],
   "source": []
  }
 ],
 "metadata": {
  "kernelspec": {
   "display_name": "Python 3 (ipykernel)",
   "language": "python",
   "name": "python3"
  },
  "language_info": {
   "codemirror_mode": {
    "name": "ipython",
    "version": 3
   },
   "file_extension": ".py",
   "mimetype": "text/x-python",
   "name": "python",
   "nbconvert_exporter": "python",
   "pygments_lexer": "ipython3",
   "version": "3.9.4"
  }
 },
 "nbformat": 4,
 "nbformat_minor": 2
}
