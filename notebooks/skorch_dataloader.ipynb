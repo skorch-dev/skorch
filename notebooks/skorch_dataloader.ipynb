{
 "cells": [
  {
   "cell_type": "markdown",
   "metadata": {},
   "source": [
    "## Working with Streaming Datasets with Skorch\n",
    "This notebook demonstrates how to train a neural network classifier using streaming data with the skorch library. This approach is useful when working with large datasets that don't fit entirely in memory.\n",
    "\n",
    "We will implement a custom validation callback for compatibility with streaming data patterns\n",
    "\n",
    "Firstly you will need to install the following libraries: skorch and torch."
   ]
  },
  {
   "cell_type": "markdown",
   "metadata": {},
   "source": [
    "## Imports"
   ]
  },
  {
   "cell_type": "code",
   "execution_count": 1,
   "metadata": {},
   "outputs": [],
   "source": [
    "import torch\n",
    "from torch.utils.data import IterableDataset, DataLoader\n",
    "import torch.nn as nn\n",
    "import torch.nn.functional as F\n",
    "from skorch import NeuralNetClassifier\n",
    "from skorch.callbacks import Callback"
   ]
  },
  {
   "cell_type": "markdown",
   "metadata": {},
   "source": []
  },
  {
   "cell_type": "code",
   "execution_count": null,
   "metadata": {},
   "outputs": [],
   "source": [
    "# 1. Define a streaming dataset using IterableDataset\n",
    "class StreamingDataset(IterableDataset):\n",
    "    def __init__(self, length=1000, seed=42):\n",
    "        self.length = length\n",
    "        self.rng = torch.Generator().manual_seed(seed)\n",
    "\n",
    "    def __iter__(self):\n",
    "        for _ in range(self.length):\n",
    "            X = torch.randn(20, generator=self.rng)\n",
    "            y = torch.randint(0, 2, (1,), generator=self.rng).item()\n",
    "            yield X, y"
   ]
  },
  {
   "cell_type": "markdown",
   "metadata": {},
   "source": []
  },
  {
   "cell_type": "code",
   "execution_count": null,
   "metadata": {},
   "outputs": [],
   "source": [
    "# 2. Define a simple classifier\n",
    "class SimpleClassifier(nn.Module):\n",
    "    def __init__(self, input_dim=20, hidden_dim=50, output_dim=2):\n",
    "        super().__init__()\n",
    "        self.fc1 = nn.Linear(input_dim, hidden_dim)\n",
    "        self.fc2 = nn.Linear(hidden_dim, output_dim)\n",
    "\n",
    "    def forward(self, X):\n",
    "        X = F.relu(self.fc1(X))\n",
    "        return self.fc2(X)\n",
    "\n"
   ]
  },
  {
   "cell_type": "markdown",
   "metadata": {},
   "source": []
  },
  {
   "cell_type": "code",
   "execution_count": null,
   "metadata": {},
   "outputs": [],
   "source": [
    "# 3. Create streaming datasets\n",
    "train_ds = StreamingDataset(length=1000, seed=0)\n",
    "valid_ds = StreamingDataset(length=200, seed=1)\n",
    "\n",
    "# 4. Create skorch-compatible DataLoaders\n",
    "train_loader = DataLoader(train_ds, batch_size=16)\n",
    "valid_loader = DataLoader(valid_ds, batch_size=16)\n",
    "\n",
    "# Create a custom callback for validation with streaming data\n",
    "class StreamingValidationCallback(Callback):\n",
    "    def __init__(self, valid_loader, name='valid_acc'):\n",
    "        self.valid_loader = valid_loader\n",
    "        self.name = name\n",
    "    \n",
    "    def on_epoch_end(self, net, dataset_train, dataset_valid, **kwargs):\n",
    "        net.module_.eval()\n",
    "        correct = 0\n",
    "        total = 0\n",
    "        \n",
    "        with torch.no_grad():\n",
    "            for X_batch, y_batch in self.valid_loader:\n",
    "                X_batch = X_batch.to(net.device)\n",
    "                if isinstance(y_batch, (list, tuple)):\n",
    "                    y_batch = torch.tensor(y_batch).to(net.device)\n",
    "                else:\n",
    "                    y_batch = y_batch.to(net.device)\n",
    "                \n",
    "                outputs = net.module_(X_batch)\n",
    "                _, predicted = torch.max(outputs.data, 1)\n",
    "                total += y_batch.size(0)\n",
    "                correct += (predicted == y_batch).sum().item()\n",
    "        \n",
    "        accuracy = correct / total\n",
    "        print(f\"  {self.name}: {accuracy:.4f}\")\n",
    "        net.history.record(self.name, accuracy)\n",
    "\n",
    "# Create validation data\n",
    "valid_ds_for_callback = StreamingDataset(length=200, seed=1)\n",
    "valid_loader_for_callback = DataLoader(valid_ds_for_callback, batch_size=16)\n",
    "\n"
   ]
  },
  {
   "cell_type": "markdown",
   "metadata": {},
   "source": []
  },
  {
   "cell_type": "code",
   "execution_count": null,
   "metadata": {},
   "outputs": [],
   "source": [
    "net = NeuralNetClassifier(\n",
    "    module=SimpleClassifier,\n",
    "    module__input_dim=20,\n",
    "    module__hidden_dim=50,\n",
    "    module__output_dim=2,\n",
    "    max_epochs=5,\n",
    "    lr=0.01,\n",
    "    criterion=nn.CrossEntropyLoss,\n",
    "    iterator_train=DataLoader,\n",
    "    train_split=None,  \n",
    "    callbacks=[\n",
    "        StreamingValidationCallback(valid_loader_for_callback, name='valid_acc'),\n",
    "    ],\n",
    "    device='cuda' if torch.cuda.is_available() else 'cpu',\n",
    "    verbose=1,\n",
    ")\n",
    "\n",
    "net.fit(train_ds, y=None)  # Pass dataset directly, not DataLoader"
   ]
  }
 ],
 "metadata": {
  "language_info": {
   "name": "python"
  }
 },
 "nbformat": 4,
 "nbformat_minor": 2
}
