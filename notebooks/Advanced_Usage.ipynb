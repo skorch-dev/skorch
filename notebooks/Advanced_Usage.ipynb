{
  "cells": [
    {
      "cell_type": "markdown",
      "metadata": {
        "id": "18Si_zLIsVA5"
      },
      "source": [
        "# Advanced usage"
      ]
    },
    {
      "cell_type": "markdown",
      "metadata": {
        "id": "ikfHf0WPsVBD"
      },
      "source": [
        "This notebook shows some more advanced features of `skorch`. More examples will be added with time.\n",
        "\n",
        "<table align=\"left\"><td>\n",
        "<a target=\"_blank\" href=\"https://colab.research.google.com/github/skorch-dev/skorch/blob/master/notebooks/Advanced_Usage.ipynb\">\n",
        "    <img src=\"https://www.tensorflow.org/images/colab_logo_32px.png\" />Run in Google Colab</a>  \n",
        "</td><td>\n",
        "<a target=\"_blank\" href=\"https://github.com/skorch-dev/skorch/blob/master/notebooks/Advanced_Usage.ipynb\"><img width=32px src=\"https://www.tensorflow.org/images/GitHub-Mark-32px.png\" />View source on GitHub</a></td></table>"
      ]
    },
    {
      "cell_type": "markdown",
      "metadata": {
        "id": "t8Wz4Ta1sVBQ"
      },
      "source": [
        "### Table of contents"
      ]
    },
    {
      "cell_type": "markdown",
      "metadata": {
        "id": "s4_an1fqsVBT"
      },
      "source": [
        "* [Setup](#Setup)\n",
        "* [Callbacks](#Callbacks)\n",
        "  * [Writing your own callback](#Writing-a-custom-callback)\n",
        "  * [Accessing callback parameters](#Accessing-callback-parameters)\n",
        "* [Working with different data types](#Working-with-different-data-types)\n",
        "  * [Working with datasets](#Working-with-Datasets)\n",
        "  * [Working with dicts](#Working-with-dicts)\n",
        "* [Multiple return values](#Multiple-return-values-from-forward)\n",
        "  * [Implementing a simple autoencoder](#Implementing-a-simple-autoencoder)\n",
        "  * [Training the autoencoder](#Training-the-autoencoder)\n",
        "  * [Extracting the decoder and the encoder output](#Extracting-the-decoder-and-the-encoder-output)"
      ]
    },
    {
      "cell_type": "code",
      "execution_count": 1,
      "metadata": {
        "id": "J6Q1b4HasVBc"
      },
      "outputs": [],
      "source": [
        "import subprocess\n",
        "\n",
        "# Installation on Google Colab\n",
        "try:\n",
        "    import google.colab\n",
        "    subprocess.run(['python', '-m', 'pip', 'install', 'skorch' , 'torch'])\n",
        "except ImportError:\n",
        "    pass"
      ]
    },
    {
      "cell_type": "code",
      "execution_count": 2,
      "metadata": {
        "id": "1yjHHGSesVBh"
      },
      "outputs": [],
      "source": [
        "import torch\n",
        "from torch import nn\n",
        "import torch.nn.functional as F"
      ]
    },
    {
      "cell_type": "code",
      "execution_count": 3,
      "metadata": {
        "id": "A1eiuBr1sVBo"
      },
      "outputs": [],
      "source": [
        "torch.manual_seed(0)\n",
        "torch.cuda.manual_seed(0)"
      ]
    },
    {
      "cell_type": "markdown",
      "metadata": {
        "id": "FAWnLBa6sVBq"
      },
      "source": [
        "## Setup"
      ]
    },
    {
      "cell_type": "markdown",
      "metadata": {
        "id": "m3MmHfV2sVBr"
      },
      "source": [
        "### A toy binary classification task"
      ]
    },
    {
      "cell_type": "markdown",
      "metadata": {
        "id": "6JPZGPjisVBu"
      },
      "source": [
        "We load a toy classification task from `sklearn`."
      ]
    },
    {
      "cell_type": "code",
      "execution_count": 4,
      "metadata": {
        "id": "6XaAUvlWsVBw"
      },
      "outputs": [],
      "source": [
        "import numpy as np\n",
        "from sklearn.datasets import make_classification"
      ]
    },
    {
      "cell_type": "code",
      "execution_count": 5,
      "metadata": {
        "id": "h2ITlfirsVBx"
      },
      "outputs": [],
      "source": [
        "np.random.seed(0)"
      ]
    },
    {
      "cell_type": "code",
      "execution_count": 6,
      "metadata": {
        "id": "K-v5lCxssVBy"
      },
      "outputs": [],
      "source": [
        "X, y = make_classification(1000, 20, n_informative=10, random_state=0)\n",
        "X, y = X.astype(np.float32), y.astype(np.int64)"
      ]
    },
    {
      "cell_type": "code",
      "execution_count": 7,
      "metadata": {
        "scrolled": true,
        "id": "3eAk1m7gsVBz",
        "outputId": "7a6b33ff-70c9-4978-d521-2ddb6a6667ac",
        "colab": {
          "base_uri": "https://localhost:8080/"
        }
      },
      "outputs": [
        {
          "output_type": "execute_result",
          "data": {
            "text/plain": [
              "((1000, 20), (1000,), 0.5)"
            ]
          },
          "metadata": {},
          "execution_count": 7
        }
      ],
      "source": [
        "X.shape, y.shape, y.mean()"
      ]
    },
    {
      "cell_type": "markdown",
      "metadata": {
        "id": "U3jS6Gf1sVB0"
      },
      "source": [
        "### Definition of the `pytorch` classification `module`"
      ]
    },
    {
      "cell_type": "markdown",
      "metadata": {
        "id": "NSsATLmcsVB0"
      },
      "source": [
        "We define a vanilla neural network with two hidden layers. The output layer should have 2 output units since there are two classes. In addition, it should have a softmax nonlinearity, because later, when calling `predict_proba`, the output from the `forward` call will be used."
      ]
    },
    {
      "cell_type": "code",
      "execution_count": 8,
      "metadata": {
        "id": "VinSDf1-sVB1"
      },
      "outputs": [],
      "source": [
        "from skorch import NeuralNetClassifier"
      ]
    },
    {
      "cell_type": "code",
      "execution_count": 9,
      "metadata": {
        "id": "c5bxnLNgsVB2"
      },
      "outputs": [],
      "source": [
        "class ClassifierModule(nn.Module):\n",
        "    def __init__(\n",
        "            self,\n",
        "            num_units=10,\n",
        "            nonlin=F.relu,\n",
        "            dropout=0.5,\n",
        "    ):\n",
        "        super(ClassifierModule, self).__init__()\n",
        "        self.num_units = num_units\n",
        "        self.nonlin = nonlin\n",
        "        self.dropout = dropout\n",
        "\n",
        "        self.dense0 = nn.Linear(20, num_units)\n",
        "        self.nonlin = nonlin\n",
        "        self.dropout = nn.Dropout(dropout)\n",
        "        self.dense1 = nn.Linear(num_units, 10)\n",
        "        self.output = nn.Linear(10, 2)\n",
        "\n",
        "    def forward(self, X, **kwargs):\n",
        "        X = self.nonlin(self.dense0(X))\n",
        "        X = self.dropout(X)\n",
        "        X = F.relu(self.dense1(X))\n",
        "        X = F.softmax(self.output(X), dim=-1)\n",
        "        return X"
      ]
    },
    {
      "cell_type": "markdown",
      "metadata": {
        "id": "yLKXWm63sVB3"
      },
      "source": [
        "## Callbacks"
      ]
    },
    {
      "cell_type": "markdown",
      "metadata": {
        "id": "Hp34ZkTCsVB3"
      },
      "source": [
        "Callbacks are a powerful and flexible way to customize the behavior of your neural network. They are all called at specific points during the model training, e.g. when training starts, or after each batch. Have a look at the `skorch.callbacks` module to see the callbacks that are already implemented."
      ]
    },
    {
      "cell_type": "markdown",
      "metadata": {
        "id": "ouoCuh1qsVB3"
      },
      "source": [
        "### Writing a custom callback"
      ]
    },
    {
      "cell_type": "markdown",
      "metadata": {
        "id": "XPQ8GeOnsVB3"
      },
      "source": [
        "Although `skorch` comes with a handful of useful callbacks, you may find that you would like to write your own callbacks. Doing so is straightforward, just remember these rules:\n",
        "* They should inherit from `skorch.callbacks.Callback`.\n",
        "* They should implement at least one of the `on_`-methods provided by the parent class (e.g. `on_batch_begin` or `on_epoch_end`).\n",
        "* As argument, the `on_`-methods first get the `NeuralNet` instance, and, where appropriate, the local data (e.g. the data from the current batch). The method should also have `**kwargs` in the signature for potentially unused arguments.\n",
        "* *Optional*: If you have attributes that should be reset when the model is re-initialized, those attributes should be set in the `initialize` method."
      ]
    },
    {
      "cell_type": "markdown",
      "metadata": {
        "id": "ZfMomAsGsVB4"
      },
      "source": [
        "Here is an example of a callback that remembers at which epoch the validation accuracy reached a certain value. Then, when training is finished, it calls a mock Twitter API and tweets that epoch. We proceed as follows:\n",
        "* We set the desired minimum accuracy during `__init__`.\n",
        "* We set the critical epoch during `initialize`.\n",
        "* After each epoch, if the critical accuracy has not yet been reached, we check if it was reached.\n",
        "* When training finishes, we send a tweet informing us whether our training was successful or not."
      ]
    },
    {
      "cell_type": "code",
      "execution_count": 10,
      "metadata": {
        "id": "VI8RdYPMsVB5"
      },
      "outputs": [],
      "source": [
        "from skorch.callbacks import Callback\n",
        "\n",
        "\n",
        "def tweet(msg):\n",
        "    print(\"~\" * 60)\n",
        "    print(\"*tweet*\", msg, \"#skorch #pytorch\")\n",
        "    print(\"~\" * 60)\n",
        "\n",
        "\n",
        "class AccuracyTweet(Callback):\n",
        "    def __init__(self, min_accuracy):\n",
        "        self.min_accuracy = min_accuracy\n",
        "\n",
        "    def initialize(self):\n",
        "        self.critical_epoch_ = -1\n",
        "\n",
        "    # This runs after every epoch\n",
        "    def on_epoch_end(self, net, **kwargs):\n",
        "        if self.critical_epoch_ > -1:\n",
        "            return\n",
        "        # look at the validation accuracy of the last epoch\n",
        "        if net.history[-1, 'valid_acc'] >= self.min_accuracy:\n",
        "            self.critical_epoch_ = len(net.history)\n",
        "\n",
        "    # This runs at the end of training\n",
        "    def on_train_end(self, net, **kwargs):\n",
        "        if self.critical_epoch_ < 0:\n",
        "            msg = \"Accuracy never reached {} :(\".format(self.min_accuracy)\n",
        "        else:\n",
        "            msg = \"Accuracy reached {} at epoch {}!!!\".format(\n",
        "                self.min_accuracy, self.critical_epoch_)\n",
        "\n",
        "        tweet(msg)"
      ]
    },
    {
      "cell_type": "markdown",
      "metadata": {
        "id": "Nmd87GoqsVB5"
      },
      "source": [
        "Now we initialize a `NeuralNetClassifier` and pass your new callback in a list to the `callbacks` argument. After that, we train the model and see what happens."
      ]
    },
    {
      "cell_type": "code",
      "execution_count": 11,
      "metadata": {
        "id": "QWIxho_GsVB6"
      },
      "outputs": [],
      "source": [
        "net = NeuralNetClassifier(\n",
        "    ClassifierModule,\n",
        "    max_epochs=15,\n",
        "    lr=0.02,\n",
        "    warm_start=True,\n",
        "    callbacks=[AccuracyTweet(min_accuracy=0.7)],\n",
        ")"
      ]
    },
    {
      "cell_type": "code",
      "execution_count": 12,
      "metadata": {
        "id": "owY9rT0KsVB6",
        "outputId": "4df23b1d-a500-4bbb-ea5c-f66cc2157229",
        "colab": {
          "base_uri": "https://localhost:8080/"
        }
      },
      "outputs": [
        {
          "output_type": "stream",
          "name": "stdout",
          "text": [
            "  epoch    train_loss    valid_acc    valid_loss     dur\n",
            "-------  ------------  -----------  ------------  ------\n",
            "      1        \u001b[36m0.6954\u001b[0m       \u001b[32m0.6000\u001b[0m        \u001b[35m0.6844\u001b[0m  0.1888\n",
            "      2        \u001b[36m0.6871\u001b[0m       0.5950        \u001b[35m0.6820\u001b[0m  0.0179\n",
            "      3        \u001b[36m0.6826\u001b[0m       \u001b[32m0.6100\u001b[0m        \u001b[35m0.6793\u001b[0m  0.0228\n",
            "      4        \u001b[36m0.6751\u001b[0m       0.6100        \u001b[35m0.6775\u001b[0m  0.0206\n",
            "      5        0.6773       \u001b[32m0.6150\u001b[0m        \u001b[35m0.6754\u001b[0m  0.0157\n",
            "      6        \u001b[36m0.6722\u001b[0m       0.6150        \u001b[35m0.6733\u001b[0m  0.0162\n",
            "      7        \u001b[36m0.6665\u001b[0m       \u001b[32m0.6200\u001b[0m        \u001b[35m0.6707\u001b[0m  0.0171\n",
            "      8        \u001b[36m0.6634\u001b[0m       0.6200        \u001b[35m0.6685\u001b[0m  0.0175\n",
            "      9        0.6662       0.6200        \u001b[35m0.6659\u001b[0m  0.0186\n",
            "     10        0.6635       \u001b[32m0.6500\u001b[0m        \u001b[35m0.6636\u001b[0m  0.0169\n",
            "     11        \u001b[36m0.6605\u001b[0m       \u001b[32m0.6550\u001b[0m        \u001b[35m0.6616\u001b[0m  0.0159\n",
            "     12        0.6605       \u001b[32m0.6600\u001b[0m        \u001b[35m0.6593\u001b[0m  0.0166\n",
            "     13        0.6616       \u001b[32m0.6650\u001b[0m        \u001b[35m0.6568\u001b[0m  0.0184\n",
            "     14        \u001b[36m0.6485\u001b[0m       \u001b[32m0.6750\u001b[0m        \u001b[35m0.6546\u001b[0m  0.0206\n",
            "     15        \u001b[36m0.6464\u001b[0m       0.6750        \u001b[35m0.6518\u001b[0m  0.0167\n",
            "~~~~~~~~~~~~~~~~~~~~~~~~~~~~~~~~~~~~~~~~~~~~~~~~~~~~~~~~~~~~\n",
            "*tweet* Accuracy never reached 0.7 :( #skorch #pytorch\n",
            "~~~~~~~~~~~~~~~~~~~~~~~~~~~~~~~~~~~~~~~~~~~~~~~~~~~~~~~~~~~~\n"
          ]
        },
        {
          "output_type": "execute_result",
          "data": {
            "text/plain": [
              "<class 'skorch.classifier.NeuralNetClassifier'>[initialized](\n",
              "  module_=ClassifierModule(\n",
              "    (dense0): Linear(in_features=20, out_features=10, bias=True)\n",
              "    (dropout): Dropout(p=0.5, inplace=False)\n",
              "    (dense1): Linear(in_features=10, out_features=10, bias=True)\n",
              "    (output): Linear(in_features=10, out_features=2, bias=True)\n",
              "  ),\n",
              ")"
            ]
          },
          "metadata": {},
          "execution_count": 12
        }
      ],
      "source": [
        "net.fit(X, y)"
      ]
    },
    {
      "cell_type": "markdown",
      "metadata": {
        "id": "v5vtHsyysVB7"
      },
      "source": [
        "Oh no, our model never reached a validation accuracy of 0.7. Let's train some more (this is possible because we set `warm_start=True`):"
      ]
    },
    {
      "cell_type": "code",
      "execution_count": 13,
      "metadata": {
        "id": "M9bSgIZ0sVB7",
        "outputId": "cebd25fa-1d49-40b3-9850-586cff662155",
        "colab": {
          "base_uri": "https://localhost:8080/"
        }
      },
      "outputs": [
        {
          "output_type": "stream",
          "name": "stdout",
          "text": [
            "     16        \u001b[36m0.6431\u001b[0m       \u001b[32m0.6800\u001b[0m        \u001b[35m0.6491\u001b[0m  0.0180\n",
            "     17        \u001b[36m0.6406\u001b[0m       \u001b[32m0.6850\u001b[0m        \u001b[35m0.6460\u001b[0m  0.0166\n",
            "     18        0.6501       \u001b[32m0.6900\u001b[0m        \u001b[35m0.6437\u001b[0m  0.0161\n",
            "     19        0.6450       \u001b[32m0.6950\u001b[0m        \u001b[35m0.6410\u001b[0m  0.0194\n",
            "     20        \u001b[36m0.6330\u001b[0m       \u001b[32m0.7000\u001b[0m        \u001b[35m0.6380\u001b[0m  0.0266\n",
            "     21        \u001b[36m0.6306\u001b[0m       \u001b[32m0.7100\u001b[0m        \u001b[35m0.6352\u001b[0m  0.0175\n",
            "     22        \u001b[36m0.6305\u001b[0m       0.7100        \u001b[35m0.6319\u001b[0m  0.0155\n",
            "     23        0.6329       0.7100        \u001b[35m0.6295\u001b[0m  0.0171\n",
            "     24        0.6322       \u001b[32m0.7150\u001b[0m        \u001b[35m0.6269\u001b[0m  0.0173\n",
            "     25        \u001b[36m0.6188\u001b[0m       0.7050        \u001b[35m0.6241\u001b[0m  0.0183\n",
            "     26        \u001b[36m0.6163\u001b[0m       0.7000        \u001b[35m0.6206\u001b[0m  0.0183\n",
            "     27        \u001b[36m0.6133\u001b[0m       0.7050        \u001b[35m0.6176\u001b[0m  0.0171\n",
            "     28        0.6214       0.7050        \u001b[35m0.6150\u001b[0m  0.0190\n",
            "     29        \u001b[36m0.6099\u001b[0m       0.7000        \u001b[35m0.6122\u001b[0m  0.0176\n",
            "     30        0.6156       0.7000        \u001b[35m0.6095\u001b[0m  0.0181\n",
            "~~~~~~~~~~~~~~~~~~~~~~~~~~~~~~~~~~~~~~~~~~~~~~~~~~~~~~~~~~~~\n",
            "*tweet* Accuracy reached 0.7 at epoch 20!!! #skorch #pytorch\n",
            "~~~~~~~~~~~~~~~~~~~~~~~~~~~~~~~~~~~~~~~~~~~~~~~~~~~~~~~~~~~~\n"
          ]
        },
        {
          "output_type": "execute_result",
          "data": {
            "text/plain": [
              "<class 'skorch.classifier.NeuralNetClassifier'>[initialized](\n",
              "  module_=ClassifierModule(\n",
              "    (dense0): Linear(in_features=20, out_features=10, bias=True)\n",
              "    (dropout): Dropout(p=0.5, inplace=False)\n",
              "    (dense1): Linear(in_features=10, out_features=10, bias=True)\n",
              "    (output): Linear(in_features=10, out_features=2, bias=True)\n",
              "  ),\n",
              ")"
            ]
          },
          "metadata": {},
          "execution_count": 13
        }
      ],
      "source": [
        "# warm_start starts training from the point training stoped previously.\n",
        "net.fit(X, y)"
      ]
    },
    {
      "cell_type": "code",
      "execution_count": 14,
      "metadata": {
        "id": "Luvg0lTlsVB8"
      },
      "outputs": [],
      "source": [
        "assert net.history[-1, 'valid_acc'] >= 0.7"
      ]
    },
    {
      "cell_type": "markdown",
      "metadata": {
        "id": "qAtnpN-ksVB8"
      },
      "source": [
        "Finally, the validation score exceeded 0.7. Hooray!"
      ]
    },
    {
      "cell_type": "markdown",
      "metadata": {
        "id": "BMQFNHRYsVB8"
      },
      "source": [
        "### Accessing callback parameters"
      ]
    },
    {
      "cell_type": "markdown",
      "metadata": {
        "id": "0ReRs9QasVB9"
      },
      "source": [
        "Say you would like to use a learning rate schedule with your neural net, but you don't know what parameters are best for that schedule. Wouldn't it be nice if you could find those parameters with a grid search? With `skorch`, this is possible. Below, we show how to access the parameters of your callbacks."
      ]
    },
    {
      "cell_type": "markdown",
      "metadata": {
        "id": "JF2Ss-owsVB9"
      },
      "source": [
        "To simplify the access to your callback parameters, it is best if you give your callback a name. This is achieved by passing the `callbacks` parameter a list of *name*, *callback* tuples, such as:\n",
        "\n",
        "    callbacks=[\n",
        "        ('scheduler', LearningRateScheduler)),\n",
        "        ...\n",
        "    ],\n",
        "    \n",
        "This way, you can access your callbacks using the double underscore semantics (as, for instance, in an `sklearn` `Pipeline`):\n",
        "\n",
        "    callbacks__scheduler__epoch=50,\n",
        "\n",
        "So if you would like to perform a grid search on, say, the number of units in the hidden layer and the learning rate schedule, it could look something like this:\n",
        "\n",
        "    param_grid = {\n",
        "        'module__num_units': [50, 100, 150],\n",
        "        'callbacks__scheduler__epoch': [10, 50, 100],\n",
        "    }\n",
        "    \n",
        "*Note*: If you would like to refresh your knowledge on grid search, look [here](http://scikit-learn.org/stable/modules/grid_search.html#grid-search), [here](http://scikit-learn.org/stable/auto_examples/model_selection/grid_search_text_feature_extraction.html), or in the *Basic_Usage* notebok."
      ]
    },
    {
      "cell_type": "markdown",
      "metadata": {
        "id": "YJrV9YAMsVB-"
      },
      "source": [
        "Below, we show how accessing the callback parameters works our `AccuracyTweet` callback:"
      ]
    },
    {
      "cell_type": "code",
      "execution_count": 15,
      "metadata": {
        "id": "3bSQ61YysVB-"
      },
      "outputs": [],
      "source": [
        "net = NeuralNetClassifier(\n",
        "    ClassifierModule,\n",
        "    max_epochs=10,\n",
        "    lr=0.1,\n",
        "    warm_start=True,\n",
        "    callbacks=[\n",
        "        ('tweet', AccuracyTweet(min_accuracy=0.7)),\n",
        "    ],\n",
        "    callbacks__tweet__min_accuracy=0.6,\n",
        ")"
      ]
    },
    {
      "cell_type": "code",
      "execution_count": 16,
      "metadata": {
        "id": "vnxWZq-VsVCA",
        "outputId": "ea82cebc-1bcc-4591-f2c4-3cfd9a9aa28c",
        "colab": {
          "base_uri": "https://localhost:8080/"
        }
      },
      "outputs": [
        {
          "output_type": "stream",
          "name": "stdout",
          "text": [
            "  epoch    train_loss    valid_acc    valid_loss     dur\n",
            "-------  ------------  -----------  ------------  ------\n",
            "      1        \u001b[36m0.7003\u001b[0m       \u001b[32m0.5150\u001b[0m        \u001b[35m0.6880\u001b[0m  0.0190\n",
            "      2        \u001b[36m0.6825\u001b[0m       \u001b[32m0.6250\u001b[0m        \u001b[35m0.6761\u001b[0m  0.0160\n",
            "      3        \u001b[36m0.6632\u001b[0m       \u001b[32m0.6450\u001b[0m        \u001b[35m0.6665\u001b[0m  0.0174\n",
            "      4        \u001b[36m0.6545\u001b[0m       \u001b[32m0.6600\u001b[0m        \u001b[35m0.6574\u001b[0m  0.0253\n",
            "      5        \u001b[36m0.6397\u001b[0m       0.6450        \u001b[35m0.6459\u001b[0m  0.0219\n",
            "      6        \u001b[36m0.6348\u001b[0m       \u001b[32m0.6750\u001b[0m        \u001b[35m0.6370\u001b[0m  0.0209\n",
            "      7        \u001b[36m0.6239\u001b[0m       \u001b[32m0.6850\u001b[0m        \u001b[35m0.6276\u001b[0m  0.0178\n",
            "      8        \u001b[36m0.6119\u001b[0m       \u001b[32m0.6950\u001b[0m        \u001b[35m0.6166\u001b[0m  0.0217\n",
            "      9        \u001b[36m0.5940\u001b[0m       \u001b[32m0.7250\u001b[0m        \u001b[35m0.6113\u001b[0m  0.0225\n",
            "     10        \u001b[36m0.5908\u001b[0m       0.7250        \u001b[35m0.6017\u001b[0m  0.0205\n",
            "~~~~~~~~~~~~~~~~~~~~~~~~~~~~~~~~~~~~~~~~~~~~~~~~~~~~~~~~~~~~\n",
            "*tweet* Accuracy reached 0.6 at epoch 2!!! #skorch #pytorch\n",
            "~~~~~~~~~~~~~~~~~~~~~~~~~~~~~~~~~~~~~~~~~~~~~~~~~~~~~~~~~~~~\n"
          ]
        },
        {
          "output_type": "execute_result",
          "data": {
            "text/plain": [
              "<class 'skorch.classifier.NeuralNetClassifier'>[initialized](\n",
              "  module_=ClassifierModule(\n",
              "    (dense0): Linear(in_features=20, out_features=10, bias=True)\n",
              "    (dropout): Dropout(p=0.5, inplace=False)\n",
              "    (dense1): Linear(in_features=10, out_features=10, bias=True)\n",
              "    (output): Linear(in_features=10, out_features=2, bias=True)\n",
              "  ),\n",
              ")"
            ]
          },
          "metadata": {},
          "execution_count": 16
        }
      ],
      "source": [
        "net.fit(X, y)"
      ]
    },
    {
      "cell_type": "markdown",
      "metadata": {
        "id": "cI1IeJFFsVCB"
      },
      "source": [
        "As you can see, by passing `callbacks__tweet__min_accuracy=0.6`, we changed that parameter. The same can be achieved by calling the `set_params` method with the corresponding arguments:"
      ]
    },
    {
      "cell_type": "code",
      "execution_count": 17,
      "metadata": {
        "id": "o9waivhDsVCB",
        "outputId": "ce10ca79-0155-4a8b-f41b-6f985fcc3232",
        "colab": {
          "base_uri": "https://localhost:8080/"
        }
      },
      "outputs": [
        {
          "output_type": "execute_result",
          "data": {
            "text/plain": [
              "<class 'skorch.classifier.NeuralNetClassifier'>[initialized](\n",
              "  module_=ClassifierModule(\n",
              "    (dense0): Linear(in_features=20, out_features=10, bias=True)\n",
              "    (dropout): Dropout(p=0.5, inplace=False)\n",
              "    (dense1): Linear(in_features=10, out_features=10, bias=True)\n",
              "    (output): Linear(in_features=10, out_features=2, bias=True)\n",
              "  ),\n",
              ")"
            ]
          },
          "metadata": {},
          "execution_count": 17
        }
      ],
      "source": [
        "net.set_params(callbacks__tweet__min_accuracy=0.75)"
      ]
    },
    {
      "cell_type": "code",
      "execution_count": 18,
      "metadata": {
        "id": "UjXL1MrjsVCB",
        "outputId": "e9621c5d-cca1-4ad5-d54a-9c6e02b3c980",
        "colab": {
          "base_uri": "https://localhost:8080/"
        }
      },
      "outputs": [
        {
          "output_type": "stream",
          "name": "stdout",
          "text": [
            "  epoch    train_loss    valid_acc    valid_loss     dur\n",
            "-------  ------------  -----------  ------------  ------\n",
            "     11        \u001b[36m0.5809\u001b[0m       \u001b[32m0.7300\u001b[0m        \u001b[35m0.5908\u001b[0m  0.0186\n",
            "     12        \u001b[36m0.5580\u001b[0m       0.7000        \u001b[35m0.5864\u001b[0m  0.0184\n",
            "     13        0.5604       0.7250        \u001b[35m0.5752\u001b[0m  0.0166\n",
            "     14        \u001b[36m0.5514\u001b[0m       0.7200        \u001b[35m0.5673\u001b[0m  0.0159\n",
            "     15        \u001b[36m0.5444\u001b[0m       0.7200        \u001b[35m0.5599\u001b[0m  0.0205\n",
            "     16        0.5467       0.7300        \u001b[35m0.5511\u001b[0m  0.0240\n",
            "     17        \u001b[36m0.5246\u001b[0m       \u001b[32m0.7350\u001b[0m        \u001b[35m0.5460\u001b[0m  0.0158\n",
            "     18        0.5498       0.7200        \u001b[35m0.5428\u001b[0m  0.0556\n",
            "     19        \u001b[36m0.5197\u001b[0m       0.7350        \u001b[35m0.5407\u001b[0m  0.0624\n",
            "     20        \u001b[36m0.5159\u001b[0m       0.7350        \u001b[35m0.5355\u001b[0m  0.0804\n",
            "~~~~~~~~~~~~~~~~~~~~~~~~~~~~~~~~~~~~~~~~~~~~~~~~~~~~~~~~~~~~\n",
            "*tweet* Accuracy never reached 0.75 :( #skorch #pytorch\n",
            "~~~~~~~~~~~~~~~~~~~~~~~~~~~~~~~~~~~~~~~~~~~~~~~~~~~~~~~~~~~~\n"
          ]
        },
        {
          "output_type": "execute_result",
          "data": {
            "text/plain": [
              "<class 'skorch.classifier.NeuralNetClassifier'>[initialized](\n",
              "  module_=ClassifierModule(\n",
              "    (dense0): Linear(in_features=20, out_features=10, bias=True)\n",
              "    (dropout): Dropout(p=0.5, inplace=False)\n",
              "    (dense1): Linear(in_features=10, out_features=10, bias=True)\n",
              "    (output): Linear(in_features=10, out_features=2, bias=True)\n",
              "  ),\n",
              ")"
            ]
          },
          "metadata": {},
          "execution_count": 18
        }
      ],
      "source": [
        "net.fit(X, y)"
      ]
    },
    {
      "cell_type": "markdown",
      "metadata": {
        "id": "p0YIe5v2sVCC"
      },
      "source": [
        "## Working with different data types"
      ]
    },
    {
      "cell_type": "markdown",
      "metadata": {
        "id": "o7YjS54JsVCD"
      },
      "source": [
        "### Working with `Dataset`s"
      ]
    },
    {
      "cell_type": "markdown",
      "metadata": {
        "id": "VlAQ9mh3sVCD"
      },
      "source": [
        "We encourage you to not pass `Dataset`s to `net.fit` but to let skorch handle `Dataset`s internally. Nonetheless, there are situations where passing `Dataset`s to `net.fit` is hard to avoid (e.g. if you want to load the data lazily during the training). This is supported by skorch but may have some unwanted side-effects relating to sklearn. For instance, `Dataset`s cannot split into train and validation in a stratified fashion without explicit knowledge of the classification targets."
      ]
    },
    {
      "cell_type": "markdown",
      "metadata": {
        "id": "yiLhmGmWsVCD"
      },
      "source": [
        "Below we show what happens when you try to fit with `Dataset` and the stratified split fails:"
      ]
    },
    {
      "cell_type": "code",
      "execution_count": 19,
      "metadata": {
        "id": "4C0SSJKHsVCE"
      },
      "outputs": [],
      "source": [
        "class MyDataset(torch.utils.data.Dataset):\n",
        "    def __init__(self, X, y):\n",
        "        self.X = X\n",
        "        self.y = y\n",
        "        \n",
        "        assert len(X) == len(y)\n",
        "\n",
        "    def __len__(self):\n",
        "        return len(self.X)\n",
        "\n",
        "    def __getitem__(self, i):\n",
        "        return self.X[i], self.y[i]"
      ]
    },
    {
      "cell_type": "code",
      "execution_count": 20,
      "metadata": {
        "id": "Mkw_sw7AsVCE"
      },
      "outputs": [],
      "source": [
        "X, y = make_classification(1000, 20, n_informative=10, random_state=0)\n",
        "X, y = X.astype(np.float32), y.astype(np.int64)\n",
        "dataset = MyDataset(X, y)"
      ]
    },
    {
      "cell_type": "code",
      "execution_count": 21,
      "metadata": {
        "id": "D2vmBioVsVCF"
      },
      "outputs": [],
      "source": [
        "net = NeuralNetClassifier(ClassifierModule)"
      ]
    },
    {
      "cell_type": "code",
      "execution_count": 22,
      "metadata": {
        "id": "G5nlSJTqsVCF",
        "outputId": "f8dfa5aa-986d-4301-86d1-7bbc4d649a42",
        "colab": {
          "base_uri": "https://localhost:8080/"
        }
      },
      "outputs": [
        {
          "output_type": "stream",
          "name": "stdout",
          "text": [
            "Error: Stratified CV requires explicitly passing a suitable y.\n"
          ]
        }
      ],
      "source": [
        "try:\n",
        "    net.fit(dataset, y=None)\n",
        "except ValueError as e:\n",
        "    print(\"Error:\", e)"
      ]
    },
    {
      "cell_type": "code",
      "execution_count": 23,
      "metadata": {
        "id": "Ykz4EQb2sVCG",
        "outputId": "60de867e-eb8f-4e3d-dbfc-630fd920c924",
        "colab": {
          "base_uri": "https://localhost:8080/"
        }
      },
      "outputs": [
        {
          "output_type": "execute_result",
          "data": {
            "text/plain": [
              "True"
            ]
          },
          "metadata": {},
          "execution_count": 23
        }
      ],
      "source": [
        "net.train_split.stratified"
      ]
    },
    {
      "cell_type": "markdown",
      "metadata": {
        "id": "oOaV_qF-sVCH"
      },
      "source": [
        "As you can see, the stratified split fails since `y` is not known. There are two solutions to this:\n",
        "\n",
        "* turn off stratified splitting ( `net.train_split.stratified=False`) \n",
        "* pass `y` explicitly (if possible), even if it is implicitely contained in the `Dataset`\n",
        "\n",
        "The second solution is shown below:"
      ]
    },
    {
      "cell_type": "code",
      "execution_count": 24,
      "metadata": {
        "id": "8-fQ2GrtsVCI",
        "outputId": "3ec5c5d9-ca60-43df-ef91-c50f80fe4bad",
        "colab": {
          "base_uri": "https://localhost:8080/"
        }
      },
      "outputs": [
        {
          "output_type": "stream",
          "name": "stdout",
          "text": [
            "Re-initializing module.\n",
            "Re-initializing criterion.\n",
            "Re-initializing optimizer.\n",
            "  epoch    train_loss    valid_acc    valid_loss     dur\n",
            "-------  ------------  -----------  ------------  ------\n",
            "      1        \u001b[36m0.6994\u001b[0m       \u001b[32m0.4600\u001b[0m        \u001b[35m0.7100\u001b[0m  0.0160\n",
            "      2        \u001b[36m0.6960\u001b[0m       \u001b[32m0.4750\u001b[0m        \u001b[35m0.7072\u001b[0m  0.0302\n",
            "      3        0.6983       \u001b[32m0.4900\u001b[0m        \u001b[35m0.7046\u001b[0m  0.0148\n",
            "      4        \u001b[36m0.6945\u001b[0m       \u001b[32m0.5050\u001b[0m        \u001b[35m0.7023\u001b[0m  0.0139\n",
            "      5        \u001b[36m0.6859\u001b[0m       0.5050        \u001b[35m0.7000\u001b[0m  0.0146\n",
            "      6        \u001b[36m0.6834\u001b[0m       \u001b[32m0.5300\u001b[0m        \u001b[35m0.6978\u001b[0m  0.0148\n",
            "      7        \u001b[36m0.6799\u001b[0m       \u001b[32m0.5450\u001b[0m        \u001b[35m0.6960\u001b[0m  0.0163\n",
            "      8        \u001b[36m0.6734\u001b[0m       \u001b[32m0.5500\u001b[0m        \u001b[35m0.6942\u001b[0m  0.0161\n",
            "      9        0.6743       0.5450        \u001b[35m0.6923\u001b[0m  0.0170\n",
            "     10        \u001b[36m0.6666\u001b[0m       0.5500        \u001b[35m0.6906\u001b[0m  0.0166\n"
          ]
        },
        {
          "output_type": "execute_result",
          "data": {
            "text/plain": [
              "<class 'skorch.classifier.NeuralNetClassifier'>[initialized](\n",
              "  module_=ClassifierModule(\n",
              "    (dense0): Linear(in_features=20, out_features=10, bias=True)\n",
              "    (dropout): Dropout(p=0.5, inplace=False)\n",
              "    (dense1): Linear(in_features=10, out_features=10, bias=True)\n",
              "    (output): Linear(in_features=10, out_features=2, bias=True)\n",
              "  ),\n",
              ")"
            ]
          },
          "metadata": {},
          "execution_count": 24
        }
      ],
      "source": [
        "net.fit(dataset, y=y)"
      ]
    },
    {
      "cell_type": "markdown",
      "metadata": {
        "id": "BgLWXhuJsVCI"
      },
      "source": [
        "### Working with dicts"
      ]
    },
    {
      "cell_type": "markdown",
      "metadata": {
        "id": "MWQEbbXWsVCJ"
      },
      "source": [
        "#### The standard case"
      ]
    },
    {
      "cell_type": "markdown",
      "metadata": {
        "id": "OSvek_0VsVCK"
      },
      "source": [
        "skorch has built-in support for dictionaries as data containers. Here we show a somewhat contrived example of how to use dicts, but it should get the point across. First we create data and put it into a dictionary `X_dict` with two keys `X0` and `X1`:"
      ]
    },
    {
      "cell_type": "code",
      "execution_count": 25,
      "metadata": {
        "id": "27RyOzt9sVCK"
      },
      "outputs": [],
      "source": [
        "X, y = make_classification(1000, 20, n_informative=10, random_state=0)\n",
        "X, y = X.astype(np.float32), y.astype(np.int64)\n",
        "X0, X1 = X[:, :10], X[:, 10:]\n",
        "X_dict = {'X0': X0, 'X1': X1}"
      ]
    },
    {
      "cell_type": "markdown",
      "metadata": {
        "id": "NnkDaxOPsVCK"
      },
      "source": [
        "When skorch passes the dict to the pytorch module, it will pass the data as keyword arguments to the forward call. That means that we should accept the two keys `XO` and `X1` in the forward method, as shown below:"
      ]
    },
    {
      "cell_type": "code",
      "execution_count": 26,
      "metadata": {
        "id": "XOrE0BnKsVCL"
      },
      "outputs": [],
      "source": [
        "class ClassifierWithDict(nn.Module):\n",
        "    def __init__(\n",
        "            self,\n",
        "            num_units0=50,\n",
        "            num_units1=50,\n",
        "            nonlin=F.relu,\n",
        "            dropout=0.5,\n",
        "    ):\n",
        "        super(ClassifierWithDict, self).__init__()\n",
        "        self.num_units0 = num_units0\n",
        "        self.num_units1 = num_units1\n",
        "        self.nonlin = nonlin\n",
        "        self.dropout = dropout\n",
        "\n",
        "        self.dense0 = nn.Linear(10, num_units0)\n",
        "        self.dense1 = nn.Linear(10, num_units1)\n",
        "        self.nonlin = nonlin\n",
        "        self.dropout = nn.Dropout(dropout)\n",
        "        self.output = nn.Linear(num_units0 + num_units1, 2)\n",
        "\n",
        "    # NOTE: We accept X0 and X1, the keys from the dict, as arguments\n",
        "    def forward(self, X0, X1, **kwargs):\n",
        "        X0 = self.nonlin(self.dense0(X0))\n",
        "        X0 = self.dropout(X0)\n",
        "\n",
        "        X1 = self.nonlin(self.dense1(X1))\n",
        "        X1 = self.dropout(X1)\n",
        "\n",
        "        X = torch.cat((X0, X1), dim=1)\n",
        "        X = F.relu(X)\n",
        "        X = F.softmax(self.output(X), dim=-1)\n",
        "        return X"
      ]
    },
    {
      "cell_type": "markdown",
      "metadata": {
        "id": "MpER2RZVsVCL"
      },
      "source": [
        "As long as we keep this in mind, we are good to go."
      ]
    },
    {
      "cell_type": "code",
      "execution_count": 27,
      "metadata": {
        "id": "q1mvMTfesVCM"
      },
      "outputs": [],
      "source": [
        "net = NeuralNetClassifier(ClassifierWithDict, verbose=0)"
      ]
    },
    {
      "cell_type": "code",
      "execution_count": 28,
      "metadata": {
        "id": "SaVRAQbBsVCM",
        "outputId": "339227ae-0897-4181-8433-71b9c9c2283c",
        "colab": {
          "base_uri": "https://localhost:8080/"
        }
      },
      "outputs": [
        {
          "output_type": "execute_result",
          "data": {
            "text/plain": [
              "<class 'skorch.classifier.NeuralNetClassifier'>[initialized](\n",
              "  module_=ClassifierWithDict(\n",
              "    (dense0): Linear(in_features=10, out_features=50, bias=True)\n",
              "    (dense1): Linear(in_features=10, out_features=50, bias=True)\n",
              "    (dropout): Dropout(p=0.5, inplace=False)\n",
              "    (output): Linear(in_features=100, out_features=2, bias=True)\n",
              "  ),\n",
              ")"
            ]
          },
          "metadata": {},
          "execution_count": 28
        }
      ],
      "source": [
        "net.fit(X_dict, y)"
      ]
    },
    {
      "cell_type": "markdown",
      "metadata": {
        "id": "Nwi0gOrisVCM"
      },
      "source": [
        "#### Working with sklearn `Pipeline` and `GridSearchCV`"
      ]
    },
    {
      "cell_type": "code",
      "execution_count": 29,
      "metadata": {
        "id": "vJS1plx1sVCM"
      },
      "outputs": [],
      "source": [
        "from sklearn.pipeline import Pipeline\n",
        "from sklearn.preprocessing import FunctionTransformer\n",
        "from sklearn.model_selection import GridSearchCV"
      ]
    },
    {
      "cell_type": "markdown",
      "metadata": {
        "id": "29GKiF0EsVCN"
      },
      "source": [
        "sklearn makes the assumption that incoming data should be numpy/sparse arrays or something similar. This clashes with the use of dictionaries. Unfortunately, it is sometimes impossible to work around that for now (for instance using skorch with `BaggingClassifier`). Other times, there are possibilities.\n",
        "\n",
        "When we have a preprocessing pipeline that involves `FunctionTransformer`, we have to pass the parameter `validate=False` (which is the default value now) so that sklearn allows the dictionary to pass through. Everything else works:"
      ]
    },
    {
      "cell_type": "code",
      "execution_count": 30,
      "metadata": {
        "id": "F-0SxvZ_sVCN"
      },
      "outputs": [],
      "source": [
        "pipe = Pipeline([\n",
        "    ('do-nothing', FunctionTransformer(validate=False)),\n",
        "    ('net', net),\n",
        "])"
      ]
    },
    {
      "cell_type": "code",
      "execution_count": 31,
      "metadata": {
        "scrolled": true,
        "id": "z_RoejYGsVCN",
        "outputId": "fc304417-58ef-4a29-d5b5-9326e4d04e43",
        "colab": {
          "base_uri": "https://localhost:8080/"
        }
      },
      "outputs": [
        {
          "output_type": "execute_result",
          "data": {
            "text/plain": [
              "Pipeline(steps=[('do-nothing', FunctionTransformer()),\n",
              "                ('net',\n",
              "                 <class 'skorch.classifier.NeuralNetClassifier'>[initialized](\n",
              "  module_=ClassifierWithDict(\n",
              "    (dense0): Linear(in_features=10, out_features=50, bias=True)\n",
              "    (dense1): Linear(in_features=10, out_features=50, bias=True)\n",
              "    (dropout): Dropout(p=0.5, inplace=False)\n",
              "    (output): Linear(in_features=100, out_features=2, bias=True)\n",
              "  ),\n",
              "))])"
            ]
          },
          "metadata": {},
          "execution_count": 31
        }
      ],
      "source": [
        "pipe.fit(X_dict, y)"
      ]
    },
    {
      "cell_type": "markdown",
      "metadata": {
        "id": "Ga47HwR7sVCO"
      },
      "source": [
        "When trying a grid or randomized search, it is not that easy to pass a dict. If we try, we will get an error:"
      ]
    },
    {
      "cell_type": "code",
      "execution_count": 32,
      "metadata": {
        "id": "p0GokCmOsVCO"
      },
      "outputs": [],
      "source": [
        "param_grid = {\n",
        "    'net__module__num_units0': [10, 25, 50], \n",
        "    'net__module__num_units1': [10, 25, 50],\n",
        "    'net__lr': [0.01, 0.1],\n",
        "}"
      ]
    },
    {
      "cell_type": "code",
      "execution_count": 33,
      "metadata": {
        "id": "Ujk48SEGsVCP"
      },
      "outputs": [],
      "source": [
        "grid_search = GridSearchCV(pipe, param_grid, scoring='accuracy', verbose=1, cv=3)"
      ]
    },
    {
      "cell_type": "code",
      "execution_count": 34,
      "metadata": {
        "id": "TxE7bXgmsVCP",
        "outputId": "af7fb832-2da7-4189-f354-41c7a0f68973",
        "colab": {
          "base_uri": "https://localhost:8080/"
        }
      },
      "outputs": [
        {
          "output_type": "stream",
          "name": "stdout",
          "text": [
            "Found input variables with inconsistent numbers of samples: [2, 1000]\n"
          ]
        }
      ],
      "source": [
        "try:\n",
        "    grid_search.fit(X_dict, y)\n",
        "except Exception as e:\n",
        "    print(e)"
      ]
    },
    {
      "cell_type": "markdown",
      "metadata": {
        "id": "Ami36mdnsVCP"
      },
      "source": [
        "The error above occurs because sklearn gets the length of the input data, which is 2 for the dict, and believes that is inconsistent with the length of the target (1000). \n",
        "\n",
        "To get around that, skorch provides a helper class called `SliceDict`. It allows us to wrap our dictionaries so that they also behave like a numpy array:"
      ]
    },
    {
      "cell_type": "code",
      "execution_count": 35,
      "metadata": {
        "id": "Aobahq0ZsVCR"
      },
      "outputs": [],
      "source": [
        "from skorch.helper import SliceDict"
      ]
    },
    {
      "cell_type": "code",
      "execution_count": 36,
      "metadata": {
        "id": "r2AZyPCssVCR"
      },
      "outputs": [],
      "source": [
        "X_slice_dict = SliceDict(X0=X0, X1=X1)  # X_slice_dict = SliceDict(**X_dict) would also work"
      ]
    },
    {
      "cell_type": "markdown",
      "metadata": {
        "id": "w0fYiszusVCR"
      },
      "source": [
        "The SliceDict shows the correct length, shape, and is sliceable across values:"
      ]
    },
    {
      "cell_type": "code",
      "execution_count": 37,
      "metadata": {
        "id": "35abbE9vsVCR",
        "outputId": "dd2c4907-9b38-4b31-ac10-05c6cdc0c15b",
        "colab": {
          "base_uri": "https://localhost:8080/"
        }
      },
      "outputs": [
        {
          "output_type": "stream",
          "name": "stdout",
          "text": [
            "Length of dict: 2, length of SliceDict: 1000\n",
            "Shape of SliceDict: (1000,)\n"
          ]
        }
      ],
      "source": [
        "print(\"Length of dict: {}, length of SliceDict: {}\".format(len(X_dict), len(X_slice_dict)))\n",
        "print(\"Shape of SliceDict: {}\".format(X_slice_dict.shape))"
      ]
    },
    {
      "cell_type": "code",
      "execution_count": 38,
      "metadata": {
        "id": "8JvsSxxmsVCS",
        "outputId": "8b09d45d-23d3-445f-dc8d-36aaa8b1d5c6",
        "colab": {
          "base_uri": "https://localhost:8080/"
        }
      },
      "outputs": [
        {
          "output_type": "stream",
          "name": "stdout",
          "text": [
            "Slicing the SliceDict slices across values: SliceDict(**{'X0': array([[-0.9658346 , -2.1890705 ,  0.16985609,  0.8138456 , -3.375209  ,\n",
            "        -2.1430597 , -0.39585084,  2.9419577 , -2.1910605 ,  1.2443967 ],\n",
            "       [-0.454767  ,  4.339768  , -0.48572844, -4.88433   , -2.8836503 ,\n",
            "         2.6097205 , -1.952876  , -0.09192174,  0.07970932, -0.08938338]],\n",
            "      dtype=float32), 'X1': array([[ 0.04351204, -0.5150961 , -0.86073655, -1.1097169 ,  0.31839254,\n",
            "        -0.8231973 , -1.056304  , -0.89645284,  0.3759244 , -1.0849651 ],\n",
            "       [-0.60726726, -1.0674309 ,  0.48804346, -0.50230557,  0.55743027,\n",
            "         1.01592   , -1.9953582 ,  2.9030426 , -0.9739298 ,  2.1753323 ]],\n",
            "      dtype=float32)})\n"
          ]
        }
      ],
      "source": [
        "print(\"Slicing the SliceDict slices across values: {}\".format(X_slice_dict[:2]))"
      ]
    },
    {
      "cell_type": "markdown",
      "metadata": {
        "id": "4oFu90JisVCT"
      },
      "source": [
        "With this, we can call `GridSearchCV` just as expected:"
      ]
    },
    {
      "cell_type": "code",
      "execution_count": 39,
      "metadata": {
        "id": "eA4mP09SsVCT",
        "outputId": "b560b4c6-5ed1-4100-ed8d-5a0dc9f8062a",
        "colab": {
          "base_uri": "https://localhost:8080/"
        }
      },
      "outputs": [
        {
          "output_type": "stream",
          "name": "stdout",
          "text": [
            "Fitting 3 folds for each of 18 candidates, totalling 54 fits\n"
          ]
        },
        {
          "output_type": "execute_result",
          "data": {
            "text/plain": [
              "GridSearchCV(cv=3,\n",
              "             estimator=Pipeline(steps=[('do-nothing', FunctionTransformer()),\n",
              "                                       ('net',\n",
              "                                        <class 'skorch.classifier.NeuralNetClassifier'>[initialized](\n",
              "  module_=ClassifierWithDict(\n",
              "    (dense0): Linear(in_features=10, out_features=50, bias=True)\n",
              "    (dense1): Linear(in_features=10, out_features=50, bias=True)\n",
              "    (dropout): Dropout(p=0.5, inplace=False)\n",
              "    (output): Linear(in_features=100, out_features=2, bias=True)\n",
              "  ),\n",
              "))]),\n",
              "             param_grid={'net__lr': [0.01, 0.1],\n",
              "                         'net__module__num_units0': [10, 25, 50],\n",
              "                         'net__module__num_units1': [10, 25, 50]},\n",
              "             scoring='accuracy', verbose=1)"
            ]
          },
          "metadata": {},
          "execution_count": 39
        }
      ],
      "source": [
        "grid_search.fit(X_slice_dict, y)"
      ]
    },
    {
      "cell_type": "code",
      "execution_count": 40,
      "metadata": {
        "id": "X60wsuIZsVCT",
        "outputId": "e09524b6-2b06-4432-b709-ed5e3eacff1d",
        "colab": {
          "base_uri": "https://localhost:8080/"
        }
      },
      "outputs": [
        {
          "output_type": "execute_result",
          "data": {
            "text/plain": [
              "(0.7429825034615454,\n",
              " {'net__lr': 0.1,\n",
              "  'net__module__num_units0': 50,\n",
              "  'net__module__num_units1': 50})"
            ]
          },
          "metadata": {},
          "execution_count": 40
        }
      ],
      "source": [
        "grid_search.best_score_, grid_search.best_params_"
      ]
    },
    {
      "cell_type": "markdown",
      "metadata": {
        "id": "FllM10TrsVCU"
      },
      "source": [
        "## Multiple return values from `forward`"
      ]
    },
    {
      "cell_type": "markdown",
      "metadata": {
        "id": "Kgw--U6qsVCU"
      },
      "source": [
        "Often, we want our `Module.forward` method to return more than just one value. There can be several reasons for this. Maybe, the criterion requires not one but several outputs. Or perhaps we want to inspect intermediate values to learn more about our model (say inspecting attention in a sequence-to-sequence model). Fortunately, `skorch` makes it easy to achieve this. In the following, we demonstrate how to handle multiple outputs from the `Module`."
      ]
    },
    {
      "cell_type": "markdown",
      "metadata": {
        "id": "xa040O-_sVCU"
      },
      "source": [
        "To demonstrate this, we implement a very simple autoencoder. It consists of an encoder that reduces our input of 20 units to 5 units using two linear layers, and a decoder that tries to reconstruct the original input, again using two linear layers."
      ]
    },
    {
      "cell_type": "markdown",
      "metadata": {
        "id": "uiFBMrfksVCV"
      },
      "source": [
        "### Implementing a simple autoencoder"
      ]
    },
    {
      "cell_type": "code",
      "execution_count": 41,
      "metadata": {
        "id": "1Gn8fFSdsVCV"
      },
      "outputs": [],
      "source": [
        "from skorch import NeuralNetRegressor"
      ]
    },
    {
      "cell_type": "code",
      "execution_count": 42,
      "metadata": {
        "id": "6y3kyLzgsVCV"
      },
      "outputs": [],
      "source": [
        "class Encoder(nn.Module):\n",
        "    def __init__(self, num_units=5):\n",
        "        super().__init__()\n",
        "        self.num_units = num_units\n",
        "        \n",
        "        self.encode = nn.Sequential(\n",
        "            nn.Linear(20, 10),\n",
        "            nn.ReLU(),\n",
        "            nn.Linear(10, self.num_units),\n",
        "            nn.ReLU(),\n",
        "        )\n",
        "        \n",
        "    def forward(self, X):\n",
        "        encoded = self.encode(X)\n",
        "        return encoded"
      ]
    },
    {
      "cell_type": "code",
      "execution_count": 43,
      "metadata": {
        "id": "lUV6zTUnsVCW"
      },
      "outputs": [],
      "source": [
        "class Decoder(nn.Module):\n",
        "    def __init__(self, num_units):\n",
        "        super().__init__()\n",
        "        self.num_units = num_units\n",
        "        \n",
        "        self.decode = nn.Sequential(\n",
        "            nn.Linear(self.num_units, 10),\n",
        "            nn.ReLU(),\n",
        "            nn.Linear(10, 20),\n",
        "        )\n",
        "        \n",
        "    def forward(self, X):\n",
        "        decoded = self.decode(X)\n",
        "        return decoded"
      ]
    },
    {
      "cell_type": "markdown",
      "metadata": {
        "id": "hoYbR4QHsVCX"
      },
      "source": [
        "The autoencoder module below actually returns a tuple of two values, the decoded input and the encoded input. This way, we cannot only use the decoded input to calculate the normal loss but also have access to the encoded state."
      ]
    },
    {
      "cell_type": "code",
      "execution_count": 44,
      "metadata": {
        "id": "QverW7disVCX"
      },
      "outputs": [],
      "source": [
        "class AutoEncoder(nn.Module):\n",
        "    def __init__(self, num_units):\n",
        "        super().__init__()\n",
        "        self.num_units = num_units\n",
        "\n",
        "        self.encoder = Encoder(num_units=self.num_units)\n",
        "        self.decoder = Decoder(num_units=self.num_units)\n",
        "        \n",
        "    def forward(self, X):\n",
        "        encoded = self.encoder(X)\n",
        "        decoded = self.decoder(encoded)\n",
        "        return decoded, encoded  # <- return a tuple of two values"
      ]
    },
    {
      "cell_type": "markdown",
      "metadata": {
        "id": "r3jDDF03sVCX"
      },
      "source": [
        "Since the module's `forward` method returns two values, we have to adjust our objective to do the right thing with those values. If we don't do this, the criterion wouldn't know what to do with the two values and would raise an error.\n",
        "\n",
        "One strategy would be to only use the decoded state for the loss and discard the encoded state. For this demonstration, we have a different plan: We would like the encoded state to be sparse. Therefore, we add an L1 loss of the encoded state to the reconstruction loss. This way, the net will try to reconstruct the input as accurately as possible while keeping the encoded state as sparse as possible.\n",
        "\n",
        "To implement this, the right method to override is called `get_loss`, which is where `skorch` computes and returns the loss. It gets the prediction (our tuple) and the target as input, as well as other arguments and keywords that we pass through. We create a subclass of `NeuralNetRegressor` that overrides said method and implements our idea for the loss."
      ]
    },
    {
      "cell_type": "code",
      "execution_count": 45,
      "metadata": {
        "id": "YmPZQJGUsVCY"
      },
      "outputs": [],
      "source": [
        "class AutoEncoderNet(NeuralNetRegressor):\n",
        "    def get_loss(self, y_pred, y_true, *args, **kwargs):\n",
        "        decoded, encoded = y_pred  # <- unpack the tuple that was returned by `forward`\n",
        "        loss_reconstruction = super().get_loss(decoded, y_true, *args, **kwargs)\n",
        "        loss_l1 = 1e-3 * torch.abs(encoded).sum()\n",
        "        return loss_reconstruction + loss_l1"
      ]
    },
    {
      "cell_type": "markdown",
      "metadata": {
        "id": "GBsIqCiWsVCY"
      },
      "source": [
        "*Note*: Alternatively, we could have used an unaltered `NeuralNetRegressor` but implement a custom criterion that is responsible for unpacking the tuple and computing the loss."
      ]
    },
    {
      "cell_type": "markdown",
      "metadata": {
        "id": "XoE1V84QsVCZ"
      },
      "source": [
        "### Training the autoencoder"
      ]
    },
    {
      "cell_type": "markdown",
      "metadata": {
        "id": "8P2R0m6QsVCZ"
      },
      "source": [
        "Now that everything is ready, we train the model as usual. We initialize our net subclass with the `AutoEncoder` module and call the `fit` method with `X` both as input and as target (since we want to reconstruct the original data):"
      ]
    },
    {
      "cell_type": "code",
      "execution_count": 46,
      "metadata": {
        "id": "DFtqzAwcsVCZ"
      },
      "outputs": [],
      "source": [
        "net = AutoEncoderNet(\n",
        "    AutoEncoder,\n",
        "    module__num_units=5,\n",
        "    lr=0.3,\n",
        ")"
      ]
    },
    {
      "cell_type": "code",
      "execution_count": 47,
      "metadata": {
        "scrolled": false,
        "id": "V6DEIch5sVCa",
        "outputId": "9fc258c3-498f-403b-fbd1-f2fa50bce604",
        "colab": {
          "base_uri": "https://localhost:8080/"
        }
      },
      "outputs": [
        {
          "output_type": "stream",
          "name": "stdout",
          "text": [
            "  epoch    train_loss    valid_loss     dur\n",
            "-------  ------------  ------------  ------\n",
            "      1        \u001b[36m3.8021\u001b[0m        \u001b[32m3.7869\u001b[0m  0.0312\n",
            "      2        \u001b[36m3.6940\u001b[0m        \u001b[32m3.7218\u001b[0m  0.0244\n",
            "      3        \u001b[36m3.6441\u001b[0m        \u001b[32m3.6828\u001b[0m  0.0186\n",
            "      4        \u001b[36m3.6145\u001b[0m        \u001b[32m3.6578\u001b[0m  0.0189\n",
            "      5        \u001b[36m3.5955\u001b[0m        \u001b[32m3.6407\u001b[0m  0.0195\n",
            "      6        \u001b[36m3.5824\u001b[0m        \u001b[32m3.6276\u001b[0m  0.0197\n",
            "      7        \u001b[36m3.5714\u001b[0m        \u001b[32m3.6146\u001b[0m  0.0194\n",
            "      8        \u001b[36m3.5571\u001b[0m        \u001b[32m3.5906\u001b[0m  0.0192\n",
            "      9        \u001b[36m3.5160\u001b[0m        \u001b[32m3.4825\u001b[0m  0.0285\n",
            "     10        \u001b[36m3.3439\u001b[0m        \u001b[32m3.2388\u001b[0m  0.0176\n"
          ]
        },
        {
          "output_type": "execute_result",
          "data": {
            "text/plain": [
              "<class '__main__.AutoEncoderNet'>[initialized](\n",
              "  module_=AutoEncoder(\n",
              "    (encoder): Encoder(\n",
              "      (encode): Sequential(\n",
              "        (0): Linear(in_features=20, out_features=10, bias=True)\n",
              "        (1): ReLU()\n",
              "        (2): Linear(in_features=10, out_features=5, bias=True)\n",
              "        (3): ReLU()\n",
              "      )\n",
              "    )\n",
              "    (decoder): Decoder(\n",
              "      (decode): Sequential(\n",
              "        (0): Linear(in_features=5, out_features=10, bias=True)\n",
              "        (1): ReLU()\n",
              "        (2): Linear(in_features=10, out_features=20, bias=True)\n",
              "      )\n",
              "    )\n",
              "  ),\n",
              ")"
            ]
          },
          "metadata": {},
          "execution_count": 47
        }
      ],
      "source": [
        "net.fit(X, X)"
      ]
    },
    {
      "cell_type": "markdown",
      "metadata": {
        "id": "_IAdKSM1sVCa"
      },
      "source": [
        "Voilà, the model was trained using our custom loss function that makes use of both predicted values."
      ]
    },
    {
      "cell_type": "markdown",
      "metadata": {
        "id": "2I6FOyyLsVCa"
      },
      "source": [
        "### Extracting the decoder and the encoder output"
      ]
    },
    {
      "cell_type": "markdown",
      "metadata": {
        "id": "dfd6KvbUsVCb"
      },
      "source": [
        "Sometimes, we may wish to inspect all the values returned by the `foward` method of the module. There are several ways to achieve this. In theory, we can always access the module directly by using the `net.module_` attribute. However, this is unwieldy, since this completely shortcuts the prediction loop, which takes care of important steps like casting `numpy` arrays to `pytorch` tensors and batching.\n",
        "\n",
        "Also, we cannot use the `predict` method on the net. This method will only return the first output from the forward method, in this case the decoded state. The reason for this is that `predict` is part of the `sklearn` API, which requires there to be only one output. This is shown below:"
      ]
    },
    {
      "cell_type": "code",
      "execution_count": 48,
      "metadata": {
        "id": "DarGVElQsVCc",
        "outputId": "5a3f3623-0cc9-45a5-98d6-821f62f6c2e7",
        "colab": {
          "base_uri": "https://localhost:8080/"
        }
      },
      "outputs": [
        {
          "output_type": "execute_result",
          "data": {
            "text/plain": [
              "(1000, 20)"
            ]
          },
          "metadata": {},
          "execution_count": 48
        }
      ],
      "source": [
        "y_pred = net.predict(X)\n",
        "y_pred.shape  # only the decoded state is returned"
      ]
    },
    {
      "cell_type": "markdown",
      "metadata": {
        "id": "kkE9s6uPsVCd"
      },
      "source": [
        "However, the net itself provides two methods to retrieve all outputs. The first one is the `net.forward` method, which retrieves *all* the predicted batches from the `Module.forward` and concatenates them. Use this to retrieve the complete decoded and encoded state:"
      ]
    },
    {
      "cell_type": "code",
      "execution_count": 49,
      "metadata": {
        "id": "8ouMQR-gsVCd",
        "outputId": "8c6e9058-cafd-46a6-84cd-417dbb054b01",
        "colab": {
          "base_uri": "https://localhost:8080/"
        }
      },
      "outputs": [
        {
          "output_type": "execute_result",
          "data": {
            "text/plain": [
              "(torch.Size([1000, 20]), torch.Size([1000, 5]))"
            ]
          },
          "metadata": {},
          "execution_count": 49
        }
      ],
      "source": [
        "decoded_pred, encoded_pred = net.forward(X)\n",
        "decoded_pred.shape, encoded_pred.shape"
      ]
    },
    {
      "cell_type": "markdown",
      "metadata": {
        "id": "a2OvYswhsVCf"
      },
      "source": [
        "The other method is called `net.forward_iter`. It is similar to `net.forward` but instead of collecting all the batches, this method is lazy and only yields one batch at a time. This can be especially useful if the output doesn't fit into memory:"
      ]
    },
    {
      "cell_type": "code",
      "execution_count": 50,
      "metadata": {
        "id": "QqjjaGTdsVCf",
        "outputId": "475c79ca-d388-4200-f812-53f3a9cf6ce3",
        "colab": {
          "base_uri": "https://localhost:8080/"
        }
      },
      "outputs": [
        {
          "output_type": "execute_result",
          "data": {
            "text/plain": [
              "(torch.Size([128, 20]), torch.Size([128, 5]))"
            ]
          },
          "metadata": {},
          "execution_count": 50
        }
      ],
      "source": [
        "for decoded_pred, encoded_pred in net.forward_iter(X):\n",
        "    # do something with each batch\n",
        "    break\n",
        "decoded_pred.shape, encoded_pred.shape"
      ]
    },
    {
      "cell_type": "markdown",
      "metadata": {
        "id": "BIEypOp6sVCf"
      },
      "source": [
        "Finally, let's make sure that our initial goal of having a sparse encoded state was met. We check how many activities are close to zero:"
      ]
    },
    {
      "cell_type": "code",
      "execution_count": 51,
      "metadata": {
        "id": "kFF08rkrsVCg",
        "outputId": "a1055fba-17dd-42d3-e176-7d27c8e453c7",
        "colab": {
          "base_uri": "https://localhost:8080/"
        }
      },
      "outputs": [
        {
          "output_type": "execute_result",
          "data": {
            "text/plain": [
              "tensor(0.8828)"
            ]
          },
          "metadata": {},
          "execution_count": 51
        }
      ],
      "source": [
        "torch.isclose(encoded_pred, torch.zeros_like(encoded_pred)).float().mean()"
      ]
    },
    {
      "cell_type": "markdown",
      "metadata": {
        "id": "d10t0I5EsVCh"
      },
      "source": [
        "As we had hoped, the encoded state is quite sparse, with the majority of outpus being 0."
      ]
    }
  ],
  "metadata": {
    "kernelspec": {
      "display_name": "base",
      "language": "python",
      "name": "python3"
    },
    "language_info": {
      "codemirror_mode": {
        "name": "ipython",
        "version": 3
      },
      "file_extension": ".py",
      "mimetype": "text/x-python",
      "name": "python",
      "nbconvert_exporter": "python",
      "pygments_lexer": "ipython3",
      "version": "3.7.13 (default, Mar 28 2022, 08:03:21) [MSC v.1916 64 bit (AMD64)]"
    },
    "vscode": {
      "interpreter": {
        "hash": "bd97b8bffa4d3737e84826bc3d37be3046061822757ce35137ab82ad4c5a2016"
      }
    },
    "colab": {
      "provenance": []
    }
  },
  "nbformat": 4,
  "nbformat_minor": 0
}