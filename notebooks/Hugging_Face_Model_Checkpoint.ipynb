{
  "cells": [
    {
      "cell_type": "markdown",
      "metadata": {
        "id": "NM_4nRlZfyY0"
      },
      "source": [
        "# Creating checkpoints on the Hugging Face Hub"
      ]
    },
    {
      "cell_type": "markdown",
      "metadata": {
        "id": "xITS6UEjfyY3"
      },
      "source": [
        "This short notebook explains how you can create a model checkpoint on [Hugging Face Hub](https://huggingface.co/docs/hub/repositories)."
      ]
    },
    {
      "cell_type": "code",
      "execution_count": 1,
      "metadata": {
        "id": "Gnls5_nRgD1j"
      },
      "outputs": [],
      "source": [
        "import subprocess\n",
        "\n",
        "# Installation on Google Colab\n",
        "try:\n",
        "    import google.colab\n",
        "    subprocess.run(['python', '-m', 'pip', 'install', 'skorch' , 'huggingface_hub', 'transformers'])\n",
        "except ImportError:\n",
        "    pass"
      ]
    },
    {
      "cell_type": "markdown",
      "metadata": {
        "id": "0FEout2nfyY6"
      },
      "source": [
        "## Imports"
      ]
    },
    {
      "cell_type": "code",
      "execution_count": 2,
      "metadata": {
        "id": "DdLBacmAfyY8"
      },
      "outputs": [],
      "source": [
        "import os"
      ]
    },
    {
      "cell_type": "code",
      "execution_count": 3,
      "metadata": {
        "id": "U2WIUS_FfyY_"
      },
      "outputs": [],
      "source": [
        "import numpy as np\n",
        "import torch\n",
        "from sklearn.datasets import make_classification\n",
        "from sklearn.model_selection import train_test_split\n",
        "from torch import nn"
      ]
    },
    {
      "cell_type": "code",
      "execution_count": 4,
      "metadata": {
        "id": "uELKhQN9fyZC"
      },
      "outputs": [],
      "source": [
        "from skorch import NeuralNetClassifier\n",
        "from skorch.callbacks import TrainEndCheckpoint\n",
        "from skorch.hf import HfHubStorage"
      ]
    },
    {
      "cell_type": "code",
      "execution_count": 5,
      "metadata": {
        "id": "qTfESr_3fyZE"
      },
      "outputs": [],
      "source": [
        "from huggingface_hub import Repository, create_repo, HfApi"
      ]
    },
    {
      "cell_type": "markdown",
      "metadata": {
        "id": "f8XDR3l3fyZG"
      },
      "source": [
        "If not installed already, please install the [Hugging Face Hub](https://huggingface.co/docs/huggingface_hub/index) library:\n",
        "\n",
        "`$ python -m pip install huggingface_hub`\n",
        "\n",
        "Also, you need `skorch>=0.12` or installed from the master branch on GitHub."
      ]
    },
    {
      "cell_type": "markdown",
      "metadata": {
        "id": "4hXLIgZ8fyZI"
      },
      "source": [
        "<table align=\"left\"><td>\n",
        "<a target=\"_blank\" href=\"https://colab.research.google.com/github/skorch-dev/skorch/blob/master/notebooks/Hugging_Face_Checkpoint.ipynb\">\n",
        "    <img src=\"https://www.tensorflow.org/images/colab_logo_32px.png\" />Run in Google Colab</a>  \n",
        "</td><td>\n",
        "<a target=\"_blank\" href=\"https://github.com/skorch-dev/skorch/blob/master/notebooks/Hugging_Face_Checkpoint.ipynb\"><img width=32px src=\"https://www.tensorflow.org/images/GitHub-Mark-32px.png\" />View source on GitHub</a></td></table>"
      ]
    },
    {
      "cell_type": "markdown",
      "metadata": {
        "id": "tcT0N4L1fyZL"
      },
      "source": [
        "## Settings"
      ]
    },
    {
      "cell_type": "code",
      "execution_count": 6,
      "metadata": {
        "id": "ILZLjJSKfyZL"
      },
      "outputs": [],
      "source": [
        "# set the token as an environment variable called HF_TOKEN, e.g. `HF_TOKEN=hf_...`\n",
        "# the token can be found at: https://huggingface.co/settings/tokens\n",
        "TOKEN = os.environ['HF_TOKEN']\n",
        "# choose name for the whole model and for the model weights\n",
        "# typically, you only need one of the two, we use both for demonstration purposes\n",
        "MODEL_NAME = 'skorch-model.pkl'\n",
        "WEIGHTS_NAME = 'weights.pt'\n",
        "# choose a repo name within your user account or organization\n",
        "REPO_NAME = 'sawradip/demo-skorch'"
      ]
    },
    {
      "cell_type": "code",
      "execution_count": 7,
      "metadata": {
        "id": "6pNJfb8qfyZN"
      },
      "outputs": [],
      "source": [
        "torch.manual_seed(0)\n",
        "np.random.seed(0)"
      ]
    },
    {
      "cell_type": "markdown",
      "metadata": {
        "id": "DjmH2ZxVfyZN"
      },
      "source": [
        "## Create data"
      ]
    },
    {
      "cell_type": "markdown",
      "metadata": {
        "id": "N-g1bkuvfyZO"
      },
      "source": [
        "We use a toy dataset for this demo."
      ]
    },
    {
      "cell_type": "code",
      "execution_count": 8,
      "metadata": {
        "id": "XyXgoQKVfyZO"
      },
      "outputs": [],
      "source": [
        "X, y = make_classification(10000, 20, n_informative=10, random_state=0)\n",
        "X, y = X.astype(np.float32), y.astype(np.int64)"
      ]
    },
    {
      "cell_type": "code",
      "execution_count": 9,
      "metadata": {
        "id": "ZLQioMN7fyZP"
      },
      "outputs": [],
      "source": [
        "X_train, X_test, y_train, y_test = train_test_split(X, y, random_state=0)"
      ]
    },
    {
      "cell_type": "markdown",
      "metadata": {
        "id": "CujSNR4sfyZQ"
      },
      "source": [
        "## Define model"
      ]
    },
    {
      "cell_type": "markdown",
      "metadata": {
        "id": "0AdbR0JFfyZQ"
      },
      "source": [
        "### The module"
      ]
    },
    {
      "cell_type": "code",
      "execution_count": 10,
      "metadata": {
        "id": "RNLyLu5zfyZR"
      },
      "outputs": [],
      "source": [
        "class ClassifierModule(nn.Module):\n",
        "    def __init__(\n",
        "            self,\n",
        "            num_units=30,\n",
        "            nonlin=nn.ReLU(),\n",
        "            dropout=0.5,\n",
        "    ):\n",
        "        super(ClassifierModule, self).__init__()\n",
        "        self.num_units = num_units\n",
        "        self.nonlin = nonlin\n",
        "        self.dropout = dropout\n",
        "\n",
        "        self.dense0 = nn.Linear(20, num_units)\n",
        "        self.nonlin = nonlin\n",
        "        self.dropout = nn.Dropout(dropout)\n",
        "        self.dense1 = nn.Linear(num_units, num_units)\n",
        "        self.output = nn.Linear(num_units, 2)\n",
        "        self.softmax = nn.Softmax(dim=-1)\n",
        "\n",
        "    def forward(self, X, **kwargs):\n",
        "        X = self.nonlin(self.dense0(X))\n",
        "        X = self.dropout(X)\n",
        "        X = self.nonlin(self.dense1(X))\n",
        "        X = self.softmax(self.output(X))\n",
        "        return X"
      ]
    },
    {
      "cell_type": "markdown",
      "metadata": {
        "id": "MYENk5rJfyZS"
      },
      "source": [
        "### Create a repository on Hugging Face Hub"
      ]
    },
    {
      "cell_type": "markdown",
      "metadata": {
        "id": "WPQWKSjGfyZS"
      },
      "source": [
        "Assuming the repo doesn't exist yet, create a new one using this function:"
      ]
    },
    {
      "cell_type": "code",
      "execution_count": 11,
      "metadata": {
        "colab": {
          "base_uri": "https://localhost:8080/",
          "height": 35
        },
        "id": "EOdGpJnjfyZS",
        "outputId": "a7328d48-e3f6-4422-fc7f-986a412802e7"
      },
      "outputs": [
        {
          "output_type": "execute_result",
          "data": {
            "text/plain": [
              "'https://huggingface.co/sawradip/demo-skorch'"
            ],
            "application/vnd.google.colaboratory.intrinsic+json": {
              "type": "string"
            }
          },
          "metadata": {},
          "execution_count": 11
        }
      ],
      "source": [
        "skorch_repo = create_repo(\n",
        "    REPO_NAME,\n",
        "    private=True,  # set to False if it should be public\n",
        "    token=TOKEN,\n",
        "    exist_ok=True,\n",
        ")\n",
        "skorch_repo"
      ]
    },
    {
      "cell_type": "markdown",
      "metadata": {
        "id": "bcE6tTqefyZT"
      },
      "source": [
        "### Create a `HfHubStorage` instance to use with the `TrainEndCheckpoint` callback"
      ]
    },
    {
      "cell_type": "markdown",
      "metadata": {
        "id": "wf_KURmdfyZU"
      },
      "source": [
        "The ingredient we need to save models on the hub is the `skorch.hf.HfHubStorage`. This object can be used instead of a filename when you use `skorch.callbacks.TrainEndCheckpoint` (or `skorch.callbacks.Checkpoint`, but more on that later). Therefore, you can continue to use your existing checkpoints, only that models are stored on Hugging Face Hub instead of locally."
      ]
    },
    {
      "cell_type": "markdown",
      "metadata": {
        "id": "melwPiVmfyZU"
      },
      "source": [
        "As a first step, we need to create a `HfApi` instance, which is used by the `HfHubStorage` to perform the upload."
      ]
    },
    {
      "cell_type": "code",
      "execution_count": 12,
      "metadata": {
        "id": "8fQMbifAfyZU"
      },
      "outputs": [],
      "source": [
        "hf_api = HfApi()"
      ]
    },
    {
      "cell_type": "markdown",
      "metadata": {
        "id": "yhEB4_OafyZV"
      },
      "source": [
        "Then, we create a `hub_pickle_storer`, which is used by the checkpoint callback to write the whole skorch model as a pickle file to the indicated repository. We indicate the file path, repository name, and the Hugging Face token. Optionally, we can also set `verbose=1` to print a message when a file has been uploaded."
      ]
    },
    {
      "cell_type": "code",
      "execution_count": 13,
      "metadata": {
        "id": "Nm-DFF9MfyZV"
      },
      "outputs": [],
      "source": [
        "hub_pickle_storer = HfHubStorage(\n",
        "    hf_api,\n",
        "    path_in_repo=MODEL_NAME,\n",
        "    repo_id=REPO_NAME,\n",
        "    token=TOKEN,\n",
        "    verbose=1,\n",
        ")"
      ]
    },
    {
      "cell_type": "markdown",
      "metadata": {
        "id": "3Wq9b5t0fyZV"
      },
      "source": [
        "Instead of writing the whole skorch model to the Hub, we can also decide to only write specific components, e.g. the `module`. This saves the `state_dict` of the module to the Hub using `torch.save` under the hood.\n",
        "\n",
        "Also, by default, the parameters are stored in an in-memory buffer. If you want to avoid that memory overhead, it is possible to save it on disk using the `local_storage` argument. Below, we choose to store the model weights in a file called `my-model-weights.pt`."
      ]
    },
    {
      "cell_type": "code",
      "execution_count": 14,
      "metadata": {
        "id": "Dxkol4BYfyZW"
      },
      "outputs": [],
      "source": [
        "hub_params_storer = HfHubStorage(\n",
        "    hf_api,\n",
        "    path_in_repo=WEIGHTS_NAME,\n",
        "    repo_id=REPO_NAME,\n",
        "    token=TOKEN,\n",
        "    verbose=1,\n",
        "    local_storage='my-model-weights.pt',\n",
        ")"
      ]
    },
    {
      "cell_type": "markdown",
      "metadata": {
        "id": "SRGCCOJpfyZW"
      },
      "source": [
        "The other attributes (optimizer, criterion, training history) are not saved for this demo. That's why we set their values to `None` when initializing the `TrainEndCheckpoint` below."
      ]
    },
    {
      "cell_type": "code",
      "execution_count": 15,
      "metadata": {
        "id": "EorN5u8EfyZW"
      },
      "outputs": [],
      "source": [
        "checkpoint = TrainEndCheckpoint(\n",
        "    f_pickle=hub_pickle_storer,\n",
        "    f_params=hub_params_storer,\n",
        "    f_optimizer=None,\n",
        "    f_criterion=None,\n",
        "    f_history=None,\n",
        ")"
      ]
    },
    {
      "cell_type": "markdown",
      "metadata": {
        "id": "JzfV1QJCfyZX"
      },
      "source": [
        "Finally, let's create our net and fit it with the data. The checkpoint callback will automatically store the parameters on the Hugging Face Hub at the end of training."
      ]
    },
    {
      "cell_type": "code",
      "execution_count": 16,
      "metadata": {
        "id": "UP0zP3WKfyZX"
      },
      "outputs": [],
      "source": [
        "net = NeuralNetClassifier(\n",
        "    ClassifierModule,\n",
        "    lr=0.1,\n",
        "    device='cpu',\n",
        "    iterator_train__shuffle=True,\n",
        "    callbacks=[checkpoint],\n",
        ")"
      ]
    },
    {
      "cell_type": "code",
      "execution_count": 17,
      "metadata": {
        "colab": {
          "base_uri": "https://localhost:8080/"
        },
        "id": "N85J0ljOfyZY",
        "outputId": "7adf9a51-3640-419c-b1a5-daa288d71e00",
        "scrolled": false
      },
      "outputs": [
        {
          "output_type": "stream",
          "name": "stdout",
          "text": [
            "  epoch    train_loss    valid_acc    valid_loss     dur\n",
            "-------  ------------  -----------  ------------  ------\n",
            "      1        \u001b[36m0.6627\u001b[0m       \u001b[32m0.7573\u001b[0m        \u001b[35m0.5772\u001b[0m  0.8426\n",
            "      2        \u001b[36m0.5550\u001b[0m       \u001b[32m0.8593\u001b[0m        \u001b[35m0.4154\u001b[0m  0.1066\n",
            "      3        \u001b[36m0.4622\u001b[0m       \u001b[32m0.8973\u001b[0m        \u001b[35m0.3253\u001b[0m  0.0958\n",
            "      4        \u001b[36m0.4119\u001b[0m       \u001b[32m0.9073\u001b[0m        \u001b[35m0.2840\u001b[0m  0.1034\n",
            "      5        \u001b[36m0.3739\u001b[0m       \u001b[32m0.9113\u001b[0m        \u001b[35m0.2569\u001b[0m  0.1067\n",
            "      6        \u001b[36m0.3489\u001b[0m       \u001b[32m0.9213\u001b[0m        \u001b[35m0.2368\u001b[0m  0.1011\n",
            "      7        \u001b[36m0.3331\u001b[0m       \u001b[32m0.9240\u001b[0m        \u001b[35m0.2328\u001b[0m  0.1049\n",
            "      8        \u001b[36m0.3115\u001b[0m       \u001b[32m0.9287\u001b[0m        \u001b[35m0.2187\u001b[0m  0.1066\n",
            "      9        0.3117       \u001b[32m0.9300\u001b[0m        \u001b[35m0.2087\u001b[0m  0.0959\n",
            "     10        \u001b[36m0.2983\u001b[0m       \u001b[32m0.9320\u001b[0m        0.2102  0.0977\n",
            "Uploaded file to https://huggingface.co/sawradip/demo-skorch/blob/main/weights.pt\n",
            "Uploaded file to https://huggingface.co/sawradip/demo-skorch/blob/main/skorch-model.pkl\n"
          ]
        },
        {
          "output_type": "execute_result",
          "data": {
            "text/plain": [
              "<class 'skorch.classifier.NeuralNetClassifier'>[initialized](\n",
              "  module_=ClassifierModule(\n",
              "    (nonlin): ReLU()\n",
              "    (dense0): Linear(in_features=20, out_features=30, bias=True)\n",
              "    (dropout): Dropout(p=0.5, inplace=False)\n",
              "    (dense1): Linear(in_features=30, out_features=30, bias=True)\n",
              "    (output): Linear(in_features=30, out_features=2, bias=True)\n",
              "    (softmax): Softmax(dim=-1)\n",
              "  ),\n",
              ")"
            ]
          },
          "metadata": {},
          "execution_count": 17
        }
      ],
      "source": [
        "net.fit(X_train, y_train)"
      ]
    },
    {
      "cell_type": "markdown",
      "metadata": {
        "id": "R4rU2NFSfyZY"
      },
      "source": [
        "As you can see, both the weights of the PyTorch module and the whole skorch model were saved on Hub. Visit the printed URLs to see them on the Hub."
      ]
    },
    {
      "cell_type": "markdown",
      "metadata": {
        "id": "wxmWH3hofyZZ"
      },
      "source": [
        "As a next step, think about adding a [Model Card](https://huggingface.co/docs/hub/models-cards) to your repository to provide further information about the model."
      ]
    },
    {
      "cell_type": "markdown",
      "metadata": {
        "id": "MQ5GGidHfyZZ"
      },
      "source": [
        "<div class=\"alert alert-block alert-info\">\n",
        "    <b>Info: Using the HfHubStorage with Checkpoint:</b><br>\n",
        "\n",
        "\n",
        "Right now, we use `TrainEndCheckpoint`, which uploads the model only once, at the end of training. Instead, we could use `Checkpoint`, which uploads the model each time that the monitored metric improves. You should note, however, that at the moment, the upload is _synchronous_, i.e. we wait for the upload to finish. So if uploading the model takes a long time compared to training the model, your training process could be slowed down considerably, depending on how often the model improves.\n",
        "\n",
        "If you still decide to use `Checkpoint`, you might want to keep a version of each upload file, instead of the latest one overwriting the previous one. This is possible by choosing a templated model name, e.g. `'skorch-model-{}.pkl'`. This way, the first upload will create the file `'skorch-model-0.pkl'`, the second one creates the file `'skorch-model-1.pkl'`, etc.\n",
        "</div>"
      ]
    },
    {
      "cell_type": "markdown",
      "metadata": {
        "id": "ZSzd6Fy6fyZa"
      },
      "source": [
        "## Loading"
      ]
    },
    {
      "cell_type": "code",
      "execution_count": 18,
      "metadata": {
        "id": "B-8aWvf1fyZb"
      },
      "outputs": [],
      "source": [
        "import pickle\n",
        "from huggingface_hub import hf_hub_download\n",
        "from sklearn.metrics import accuracy_score"
      ]
    },
    {
      "cell_type": "markdown",
      "metadata": {
        "id": "Rb5IrDldfyZb"
      },
      "source": [
        "### Loading the whole model"
      ]
    },
    {
      "cell_type": "markdown",
      "metadata": {
        "id": "cfYchdAGfyZb"
      },
      "source": [
        "The skorch model is just a normal pickle file and can be loaded like this:"
      ]
    },
    {
      "cell_type": "code",
      "execution_count": 19,
      "metadata": {
        "colab": {
          "base_uri": "https://localhost:8080/",
          "height": 35
        },
        "id": "TaoiDcUqfyZb",
        "outputId": "32048f3a-8860-466a-f64d-7b3ee5b8db84"
      },
      "outputs": [
        {
          "output_type": "execute_result",
          "data": {
            "text/plain": [
              "'https://huggingface.co/sawradip/demo-skorch/blob/main/skorch-model.pkl'"
            ],
            "application/vnd.google.colaboratory.intrinsic+json": {
              "type": "string"
            }
          },
          "metadata": {},
          "execution_count": 19
        }
      ],
      "source": [
        "hub_pickle_storer.latest_url_"
      ]
    },
    {
      "cell_type": "code",
      "execution_count": 20,
      "metadata": {
        "colab": {
          "base_uri": "https://localhost:8080/",
          "height": 49,
          "referenced_widgets": [
            "24caa1ec80454f1bb75c7ce3819fe29b",
            "f0bf775297a441aca524df92f6e24f7c",
            "b053be427696416187febff037c604f6",
            "e19e13c459664b109196efc9b9f9c8ba",
            "a7fcb89a9a9345b6ad7bfcb64b7a12ff",
            "3e58a357b2304e438b7aed3a2ad4f9eb",
            "18b16f51d9744a10b3d44dffb9865e98",
            "1504818653be4623b61025ca7156ee79",
            "8b248bca978c4eeb9490b9098c4d2b62",
            "3b66b70d8a9749eeb64f08a68dc8b47e",
            "f3d979a16d8f40deb613e2fe7b811e02"
          ]
        },
        "id": "vigihCj-fyZc",
        "outputId": "2dbfdd27-012e-4f5f-afa4-2038654e8a08"
      },
      "outputs": [
        {
          "output_type": "display_data",
          "data": {
            "text/plain": [
              "Downloading:   0%|          | 0.00/43.2k [00:00<?, ?B/s]"
            ],
            "application/vnd.jupyter.widget-view+json": {
              "version_major": 2,
              "version_minor": 0,
              "model_id": "24caa1ec80454f1bb75c7ce3819fe29b"
            }
          },
          "metadata": {}
        }
      ],
      "source": [
        "path = hf_hub_download(REPO_NAME, MODEL_NAME, use_auth_token=TOKEN)"
      ]
    },
    {
      "cell_type": "code",
      "execution_count": 21,
      "metadata": {
        "id": "D_0t8Pd4fyZc"
      },
      "outputs": [],
      "source": [
        "with open(path, 'rb') as f:\n",
        "    net_loaded = pickle.load(f)"
      ]
    },
    {
      "cell_type": "code",
      "execution_count": 22,
      "metadata": {
        "colab": {
          "base_uri": "https://localhost:8080/"
        },
        "id": "4hhN0Hf8fyZc",
        "outputId": "c88a3a3a-c163-48e6-ce96-628a363a923a"
      },
      "outputs": [
        {
          "output_type": "execute_result",
          "data": {
            "text/plain": [
              "0.9334"
            ]
          },
          "metadata": {},
          "execution_count": 22
        }
      ],
      "source": [
        "accuracy_score(y, net_loaded.predict(X))"
      ]
    },
    {
      "cell_type": "markdown",
      "metadata": {
        "id": "oyTsrq5gfyZd"
      },
      "source": [
        "### Loading the model weights"
      ]
    },
    {
      "cell_type": "markdown",
      "metadata": {
        "id": "ubnfg6vSfyZd"
      },
      "source": [
        "The model weights are stored as a PyTorch `state_dict`."
      ]
    },
    {
      "cell_type": "code",
      "execution_count": 23,
      "metadata": {
        "colab": {
          "base_uri": "https://localhost:8080/",
          "height": 35
        },
        "id": "z37GCi3SfyZe",
        "outputId": "4c5c1a98-f10f-4eb0-b7b5-efc6af5a46bb",
        "scrolled": true
      },
      "outputs": [
        {
          "output_type": "execute_result",
          "data": {
            "text/plain": [
              "'https://huggingface.co/sawradip/demo-skorch/blob/main/weights.pt'"
            ],
            "application/vnd.google.colaboratory.intrinsic+json": {
              "type": "string"
            }
          },
          "metadata": {},
          "execution_count": 23
        }
      ],
      "source": [
        "hub_params_storer.latest_url_"
      ]
    },
    {
      "cell_type": "code",
      "execution_count": 24,
      "metadata": {
        "colab": {
          "base_uri": "https://localhost:8080/",
          "height": 49,
          "referenced_widgets": [
            "dec8a584d6c6432d81e4ea9626e43cd3",
            "1d65d512e05d42729500e4d12d8e9650",
            "ac00accf11df43d9a3b3d5f4efa20ab2",
            "3c4729a61c794fc0bdd32050bddbf66f",
            "301e957c4d4a49d6819394c249d88301",
            "5a95e7bb63ab4a71b45d9b9d8e10eec3",
            "60c3c1efd20a4a9ab10d569c432cac37",
            "7448c18a11aa4204bfc997b2d311dd3c",
            "ef87cd9ee653400e86b487682b3258a8",
            "074fe7941dd046b9bb20fc2d20cd9262",
            "a25f66b54c15480fa6f808b748ab407c"
          ]
        },
        "id": "TzCzr8lufyZf",
        "outputId": "b22c0bc3-5e54-4186-989d-f0bf97445a2c",
        "scrolled": true
      },
      "outputs": [
        {
          "output_type": "display_data",
          "data": {
            "text/plain": [
              "Downloading:   0%|          | 0.00/8.54k [00:00<?, ?B/s]"
            ],
            "application/vnd.jupyter.widget-view+json": {
              "version_major": 2,
              "version_minor": 0,
              "model_id": "dec8a584d6c6432d81e4ea9626e43cd3"
            }
          },
          "metadata": {}
        }
      ],
      "source": [
        "path = hf_hub_download(REPO_NAME, WEIGHTS_NAME, use_auth_token=TOKEN)"
      ]
    },
    {
      "cell_type": "code",
      "execution_count": 25,
      "metadata": {
        "id": "1JdZYBU0fyZf"
      },
      "outputs": [],
      "source": [
        "with open(path, 'rb') as f:\n",
        "    weights_loaded = torch.load(f)"
      ]
    },
    {
      "cell_type": "code",
      "execution_count": 26,
      "metadata": {
        "colab": {
          "base_uri": "https://localhost:8080/"
        },
        "id": "jaRVCuumfyZf",
        "outputId": "66d5dcd8-5e94-4000-be47-9066b1cffb77"
      },
      "outputs": [
        {
          "output_type": "stream",
          "name": "stdout",
          "text": [
            "Parameter name 'dense0.weight' and shape torch.Size([30, 20])\n",
            "Parameter name 'dense0.bias' and shape torch.Size([30])\n",
            "Parameter name 'dense1.weight' and shape torch.Size([30, 30])\n",
            "Parameter name 'dense1.bias' and shape torch.Size([30])\n",
            "Parameter name 'output.weight' and shape torch.Size([2, 30])\n",
            "Parameter name 'output.bias' and shape torch.Size([2])\n"
          ]
        }
      ],
      "source": [
        "for key, val in weights_loaded.items():\n",
        "    print(f\"Parameter name '{key}' and shape {val.shape}\")"
      ]
    },
    {
      "cell_type": "markdown",
      "metadata": {
        "id": "ms2YFNngfyZg"
      },
      "source": [
        "Typically, when you store the whole skorch model, you don't need to store the weights separately, as they are already part of the whole model:"
      ]
    },
    {
      "cell_type": "code",
      "execution_count": 27,
      "metadata": {
        "colab": {
          "base_uri": "https://localhost:8080/"
        },
        "id": "uxoQkspufyZh",
        "outputId": "38b2a84f-77b0-4146-e04a-4644d07b3cbf"
      },
      "outputs": [
        {
          "output_type": "stream",
          "name": "stdout",
          "text": [
            "Parameter name 'dense0.weight' and shape torch.Size([30, 20])\n",
            "Parameter name 'dense0.bias' and shape torch.Size([30])\n",
            "Parameter name 'dense1.weight' and shape torch.Size([30, 30])\n",
            "Parameter name 'dense1.bias' and shape torch.Size([30])\n",
            "Parameter name 'output.weight' and shape torch.Size([2, 30])\n",
            "Parameter name 'output.bias' and shape torch.Size([2])\n"
          ]
        }
      ],
      "source": [
        "for key, val in net_loaded.module_.state_dict().items():\n",
        "    print(f\"Parameter name '{key}' and shape {val.shape}\")"
      ]
    },
    {
      "cell_type": "markdown",
      "metadata": {
        "id": "sIWTsVE-fyZi"
      },
      "source": [
        "However, there can be situations where you don't need the whole skorch model, in which case you can only store the model weights."
      ]
    },
    {
      "cell_type": "code",
      "execution_count": 27,
      "metadata": {
        "id": "4H5yk49GH-0N"
      },
      "outputs": [],
      "source": []
    }
  ],
  "metadata": {
    "colab": {
      "provenance": []
    },
    "kernelspec": {
      "display_name": "base",
      "language": "python",
      "name": "python3"
    },
    "language_info": {
      "codemirror_mode": {
        "name": "ipython",
        "version": 3
      },
      "file_extension": ".py",
      "mimetype": "text/x-python",
      "name": "python",
      "nbconvert_exporter": "python",
      "pygments_lexer": "ipython3",
      "version": "3.7.13 (default, Mar 28 2022, 08:03:21) [MSC v.1916 64 bit (AMD64)]"
    },
    "vscode": {
      "interpreter": {
        "hash": "bd97b8bffa4d3737e84826bc3d37be3046061822757ce35137ab82ad4c5a2016"
      }
    },
    "widgets": {
      "application/vnd.jupyter.widget-state+json": {
        "24caa1ec80454f1bb75c7ce3819fe29b": {
          "model_module": "@jupyter-widgets/controls",
          "model_name": "HBoxModel",
          "model_module_version": "1.5.0",
          "state": {
            "_dom_classes": [],
            "_model_module": "@jupyter-widgets/controls",
            "_model_module_version": "1.5.0",
            "_model_name": "HBoxModel",
            "_view_count": null,
            "_view_module": "@jupyter-widgets/controls",
            "_view_module_version": "1.5.0",
            "_view_name": "HBoxView",
            "box_style": "",
            "children": [
              "IPY_MODEL_f0bf775297a441aca524df92f6e24f7c",
              "IPY_MODEL_b053be427696416187febff037c604f6",
              "IPY_MODEL_e19e13c459664b109196efc9b9f9c8ba"
            ],
            "layout": "IPY_MODEL_a7fcb89a9a9345b6ad7bfcb64b7a12ff"
          }
        },
        "f0bf775297a441aca524df92f6e24f7c": {
          "model_module": "@jupyter-widgets/controls",
          "model_name": "HTMLModel",
          "model_module_version": "1.5.0",
          "state": {
            "_dom_classes": [],
            "_model_module": "@jupyter-widgets/controls",
            "_model_module_version": "1.5.0",
            "_model_name": "HTMLModel",
            "_view_count": null,
            "_view_module": "@jupyter-widgets/controls",
            "_view_module_version": "1.5.0",
            "_view_name": "HTMLView",
            "description": "",
            "description_tooltip": null,
            "layout": "IPY_MODEL_3e58a357b2304e438b7aed3a2ad4f9eb",
            "placeholder": "​",
            "style": "IPY_MODEL_18b16f51d9744a10b3d44dffb9865e98",
            "value": "Downloading: 100%"
          }
        },
        "b053be427696416187febff037c604f6": {
          "model_module": "@jupyter-widgets/controls",
          "model_name": "FloatProgressModel",
          "model_module_version": "1.5.0",
          "state": {
            "_dom_classes": [],
            "_model_module": "@jupyter-widgets/controls",
            "_model_module_version": "1.5.0",
            "_model_name": "FloatProgressModel",
            "_view_count": null,
            "_view_module": "@jupyter-widgets/controls",
            "_view_module_version": "1.5.0",
            "_view_name": "ProgressView",
            "bar_style": "success",
            "description": "",
            "description_tooltip": null,
            "layout": "IPY_MODEL_1504818653be4623b61025ca7156ee79",
            "max": 43199,
            "min": 0,
            "orientation": "horizontal",
            "style": "IPY_MODEL_8b248bca978c4eeb9490b9098c4d2b62",
            "value": 43199
          }
        },
        "e19e13c459664b109196efc9b9f9c8ba": {
          "model_module": "@jupyter-widgets/controls",
          "model_name": "HTMLModel",
          "model_module_version": "1.5.0",
          "state": {
            "_dom_classes": [],
            "_model_module": "@jupyter-widgets/controls",
            "_model_module_version": "1.5.0",
            "_model_name": "HTMLModel",
            "_view_count": null,
            "_view_module": "@jupyter-widgets/controls",
            "_view_module_version": "1.5.0",
            "_view_name": "HTMLView",
            "description": "",
            "description_tooltip": null,
            "layout": "IPY_MODEL_3b66b70d8a9749eeb64f08a68dc8b47e",
            "placeholder": "​",
            "style": "IPY_MODEL_f3d979a16d8f40deb613e2fe7b811e02",
            "value": " 43.2k/43.2k [00:00&lt;00:00, 464kB/s]"
          }
        },
        "a7fcb89a9a9345b6ad7bfcb64b7a12ff": {
          "model_module": "@jupyter-widgets/base",
          "model_name": "LayoutModel",
          "model_module_version": "1.2.0",
          "state": {
            "_model_module": "@jupyter-widgets/base",
            "_model_module_version": "1.2.0",
            "_model_name": "LayoutModel",
            "_view_count": null,
            "_view_module": "@jupyter-widgets/base",
            "_view_module_version": "1.2.0",
            "_view_name": "LayoutView",
            "align_content": null,
            "align_items": null,
            "align_self": null,
            "border": null,
            "bottom": null,
            "display": null,
            "flex": null,
            "flex_flow": null,
            "grid_area": null,
            "grid_auto_columns": null,
            "grid_auto_flow": null,
            "grid_auto_rows": null,
            "grid_column": null,
            "grid_gap": null,
            "grid_row": null,
            "grid_template_areas": null,
            "grid_template_columns": null,
            "grid_template_rows": null,
            "height": null,
            "justify_content": null,
            "justify_items": null,
            "left": null,
            "margin": null,
            "max_height": null,
            "max_width": null,
            "min_height": null,
            "min_width": null,
            "object_fit": null,
            "object_position": null,
            "order": null,
            "overflow": null,
            "overflow_x": null,
            "overflow_y": null,
            "padding": null,
            "right": null,
            "top": null,
            "visibility": null,
            "width": null
          }
        },
        "3e58a357b2304e438b7aed3a2ad4f9eb": {
          "model_module": "@jupyter-widgets/base",
          "model_name": "LayoutModel",
          "model_module_version": "1.2.0",
          "state": {
            "_model_module": "@jupyter-widgets/base",
            "_model_module_version": "1.2.0",
            "_model_name": "LayoutModel",
            "_view_count": null,
            "_view_module": "@jupyter-widgets/base",
            "_view_module_version": "1.2.0",
            "_view_name": "LayoutView",
            "align_content": null,
            "align_items": null,
            "align_self": null,
            "border": null,
            "bottom": null,
            "display": null,
            "flex": null,
            "flex_flow": null,
            "grid_area": null,
            "grid_auto_columns": null,
            "grid_auto_flow": null,
            "grid_auto_rows": null,
            "grid_column": null,
            "grid_gap": null,
            "grid_row": null,
            "grid_template_areas": null,
            "grid_template_columns": null,
            "grid_template_rows": null,
            "height": null,
            "justify_content": null,
            "justify_items": null,
            "left": null,
            "margin": null,
            "max_height": null,
            "max_width": null,
            "min_height": null,
            "min_width": null,
            "object_fit": null,
            "object_position": null,
            "order": null,
            "overflow": null,
            "overflow_x": null,
            "overflow_y": null,
            "padding": null,
            "right": null,
            "top": null,
            "visibility": null,
            "width": null
          }
        },
        "18b16f51d9744a10b3d44dffb9865e98": {
          "model_module": "@jupyter-widgets/controls",
          "model_name": "DescriptionStyleModel",
          "model_module_version": "1.5.0",
          "state": {
            "_model_module": "@jupyter-widgets/controls",
            "_model_module_version": "1.5.0",
            "_model_name": "DescriptionStyleModel",
            "_view_count": null,
            "_view_module": "@jupyter-widgets/base",
            "_view_module_version": "1.2.0",
            "_view_name": "StyleView",
            "description_width": ""
          }
        },
        "1504818653be4623b61025ca7156ee79": {
          "model_module": "@jupyter-widgets/base",
          "model_name": "LayoutModel",
          "model_module_version": "1.2.0",
          "state": {
            "_model_module": "@jupyter-widgets/base",
            "_model_module_version": "1.2.0",
            "_model_name": "LayoutModel",
            "_view_count": null,
            "_view_module": "@jupyter-widgets/base",
            "_view_module_version": "1.2.0",
            "_view_name": "LayoutView",
            "align_content": null,
            "align_items": null,
            "align_self": null,
            "border": null,
            "bottom": null,
            "display": null,
            "flex": null,
            "flex_flow": null,
            "grid_area": null,
            "grid_auto_columns": null,
            "grid_auto_flow": null,
            "grid_auto_rows": null,
            "grid_column": null,
            "grid_gap": null,
            "grid_row": null,
            "grid_template_areas": null,
            "grid_template_columns": null,
            "grid_template_rows": null,
            "height": null,
            "justify_content": null,
            "justify_items": null,
            "left": null,
            "margin": null,
            "max_height": null,
            "max_width": null,
            "min_height": null,
            "min_width": null,
            "object_fit": null,
            "object_position": null,
            "order": null,
            "overflow": null,
            "overflow_x": null,
            "overflow_y": null,
            "padding": null,
            "right": null,
            "top": null,
            "visibility": null,
            "width": null
          }
        },
        "8b248bca978c4eeb9490b9098c4d2b62": {
          "model_module": "@jupyter-widgets/controls",
          "model_name": "ProgressStyleModel",
          "model_module_version": "1.5.0",
          "state": {
            "_model_module": "@jupyter-widgets/controls",
            "_model_module_version": "1.5.0",
            "_model_name": "ProgressStyleModel",
            "_view_count": null,
            "_view_module": "@jupyter-widgets/base",
            "_view_module_version": "1.2.0",
            "_view_name": "StyleView",
            "bar_color": null,
            "description_width": ""
          }
        },
        "3b66b70d8a9749eeb64f08a68dc8b47e": {
          "model_module": "@jupyter-widgets/base",
          "model_name": "LayoutModel",
          "model_module_version": "1.2.0",
          "state": {
            "_model_module": "@jupyter-widgets/base",
            "_model_module_version": "1.2.0",
            "_model_name": "LayoutModel",
            "_view_count": null,
            "_view_module": "@jupyter-widgets/base",
            "_view_module_version": "1.2.0",
            "_view_name": "LayoutView",
            "align_content": null,
            "align_items": null,
            "align_self": null,
            "border": null,
            "bottom": null,
            "display": null,
            "flex": null,
            "flex_flow": null,
            "grid_area": null,
            "grid_auto_columns": null,
            "grid_auto_flow": null,
            "grid_auto_rows": null,
            "grid_column": null,
            "grid_gap": null,
            "grid_row": null,
            "grid_template_areas": null,
            "grid_template_columns": null,
            "grid_template_rows": null,
            "height": null,
            "justify_content": null,
            "justify_items": null,
            "left": null,
            "margin": null,
            "max_height": null,
            "max_width": null,
            "min_height": null,
            "min_width": null,
            "object_fit": null,
            "object_position": null,
            "order": null,
            "overflow": null,
            "overflow_x": null,
            "overflow_y": null,
            "padding": null,
            "right": null,
            "top": null,
            "visibility": null,
            "width": null
          }
        },
        "f3d979a16d8f40deb613e2fe7b811e02": {
          "model_module": "@jupyter-widgets/controls",
          "model_name": "DescriptionStyleModel",
          "model_module_version": "1.5.0",
          "state": {
            "_model_module": "@jupyter-widgets/controls",
            "_model_module_version": "1.5.0",
            "_model_name": "DescriptionStyleModel",
            "_view_count": null,
            "_view_module": "@jupyter-widgets/base",
            "_view_module_version": "1.2.0",
            "_view_name": "StyleView",
            "description_width": ""
          }
        },
        "dec8a584d6c6432d81e4ea9626e43cd3": {
          "model_module": "@jupyter-widgets/controls",
          "model_name": "HBoxModel",
          "model_module_version": "1.5.0",
          "state": {
            "_dom_classes": [],
            "_model_module": "@jupyter-widgets/controls",
            "_model_module_version": "1.5.0",
            "_model_name": "HBoxModel",
            "_view_count": null,
            "_view_module": "@jupyter-widgets/controls",
            "_view_module_version": "1.5.0",
            "_view_name": "HBoxView",
            "box_style": "",
            "children": [
              "IPY_MODEL_1d65d512e05d42729500e4d12d8e9650",
              "IPY_MODEL_ac00accf11df43d9a3b3d5f4efa20ab2",
              "IPY_MODEL_3c4729a61c794fc0bdd32050bddbf66f"
            ],
            "layout": "IPY_MODEL_301e957c4d4a49d6819394c249d88301"
          }
        },
        "1d65d512e05d42729500e4d12d8e9650": {
          "model_module": "@jupyter-widgets/controls",
          "model_name": "HTMLModel",
          "model_module_version": "1.5.0",
          "state": {
            "_dom_classes": [],
            "_model_module": "@jupyter-widgets/controls",
            "_model_module_version": "1.5.0",
            "_model_name": "HTMLModel",
            "_view_count": null,
            "_view_module": "@jupyter-widgets/controls",
            "_view_module_version": "1.5.0",
            "_view_name": "HTMLView",
            "description": "",
            "description_tooltip": null,
            "layout": "IPY_MODEL_5a95e7bb63ab4a71b45d9b9d8e10eec3",
            "placeholder": "​",
            "style": "IPY_MODEL_60c3c1efd20a4a9ab10d569c432cac37",
            "value": "Downloading: 100%"
          }
        },
        "ac00accf11df43d9a3b3d5f4efa20ab2": {
          "model_module": "@jupyter-widgets/controls",
          "model_name": "FloatProgressModel",
          "model_module_version": "1.5.0",
          "state": {
            "_dom_classes": [],
            "_model_module": "@jupyter-widgets/controls",
            "_model_module_version": "1.5.0",
            "_model_name": "FloatProgressModel",
            "_view_count": null,
            "_view_module": "@jupyter-widgets/controls",
            "_view_module_version": "1.5.0",
            "_view_name": "ProgressView",
            "bar_style": "success",
            "description": "",
            "description_tooltip": null,
            "layout": "IPY_MODEL_7448c18a11aa4204bfc997b2d311dd3c",
            "max": 8535,
            "min": 0,
            "orientation": "horizontal",
            "style": "IPY_MODEL_ef87cd9ee653400e86b487682b3258a8",
            "value": 8535
          }
        },
        "3c4729a61c794fc0bdd32050bddbf66f": {
          "model_module": "@jupyter-widgets/controls",
          "model_name": "HTMLModel",
          "model_module_version": "1.5.0",
          "state": {
            "_dom_classes": [],
            "_model_module": "@jupyter-widgets/controls",
            "_model_module_version": "1.5.0",
            "_model_name": "HTMLModel",
            "_view_count": null,
            "_view_module": "@jupyter-widgets/controls",
            "_view_module_version": "1.5.0",
            "_view_name": "HTMLView",
            "description": "",
            "description_tooltip": null,
            "layout": "IPY_MODEL_074fe7941dd046b9bb20fc2d20cd9262",
            "placeholder": "​",
            "style": "IPY_MODEL_a25f66b54c15480fa6f808b748ab407c",
            "value": " 8.54k/8.54k [00:00&lt;00:00, 449kB/s]"
          }
        },
        "301e957c4d4a49d6819394c249d88301": {
          "model_module": "@jupyter-widgets/base",
          "model_name": "LayoutModel",
          "model_module_version": "1.2.0",
          "state": {
            "_model_module": "@jupyter-widgets/base",
            "_model_module_version": "1.2.0",
            "_model_name": "LayoutModel",
            "_view_count": null,
            "_view_module": "@jupyter-widgets/base",
            "_view_module_version": "1.2.0",
            "_view_name": "LayoutView",
            "align_content": null,
            "align_items": null,
            "align_self": null,
            "border": null,
            "bottom": null,
            "display": null,
            "flex": null,
            "flex_flow": null,
            "grid_area": null,
            "grid_auto_columns": null,
            "grid_auto_flow": null,
            "grid_auto_rows": null,
            "grid_column": null,
            "grid_gap": null,
            "grid_row": null,
            "grid_template_areas": null,
            "grid_template_columns": null,
            "grid_template_rows": null,
            "height": null,
            "justify_content": null,
            "justify_items": null,
            "left": null,
            "margin": null,
            "max_height": null,
            "max_width": null,
            "min_height": null,
            "min_width": null,
            "object_fit": null,
            "object_position": null,
            "order": null,
            "overflow": null,
            "overflow_x": null,
            "overflow_y": null,
            "padding": null,
            "right": null,
            "top": null,
            "visibility": null,
            "width": null
          }
        },
        "5a95e7bb63ab4a71b45d9b9d8e10eec3": {
          "model_module": "@jupyter-widgets/base",
          "model_name": "LayoutModel",
          "model_module_version": "1.2.0",
          "state": {
            "_model_module": "@jupyter-widgets/base",
            "_model_module_version": "1.2.0",
            "_model_name": "LayoutModel",
            "_view_count": null,
            "_view_module": "@jupyter-widgets/base",
            "_view_module_version": "1.2.0",
            "_view_name": "LayoutView",
            "align_content": null,
            "align_items": null,
            "align_self": null,
            "border": null,
            "bottom": null,
            "display": null,
            "flex": null,
            "flex_flow": null,
            "grid_area": null,
            "grid_auto_columns": null,
            "grid_auto_flow": null,
            "grid_auto_rows": null,
            "grid_column": null,
            "grid_gap": null,
            "grid_row": null,
            "grid_template_areas": null,
            "grid_template_columns": null,
            "grid_template_rows": null,
            "height": null,
            "justify_content": null,
            "justify_items": null,
            "left": null,
            "margin": null,
            "max_height": null,
            "max_width": null,
            "min_height": null,
            "min_width": null,
            "object_fit": null,
            "object_position": null,
            "order": null,
            "overflow": null,
            "overflow_x": null,
            "overflow_y": null,
            "padding": null,
            "right": null,
            "top": null,
            "visibility": null,
            "width": null
          }
        },
        "60c3c1efd20a4a9ab10d569c432cac37": {
          "model_module": "@jupyter-widgets/controls",
          "model_name": "DescriptionStyleModel",
          "model_module_version": "1.5.0",
          "state": {
            "_model_module": "@jupyter-widgets/controls",
            "_model_module_version": "1.5.0",
            "_model_name": "DescriptionStyleModel",
            "_view_count": null,
            "_view_module": "@jupyter-widgets/base",
            "_view_module_version": "1.2.0",
            "_view_name": "StyleView",
            "description_width": ""
          }
        },
        "7448c18a11aa4204bfc997b2d311dd3c": {
          "model_module": "@jupyter-widgets/base",
          "model_name": "LayoutModel",
          "model_module_version": "1.2.0",
          "state": {
            "_model_module": "@jupyter-widgets/base",
            "_model_module_version": "1.2.0",
            "_model_name": "LayoutModel",
            "_view_count": null,
            "_view_module": "@jupyter-widgets/base",
            "_view_module_version": "1.2.0",
            "_view_name": "LayoutView",
            "align_content": null,
            "align_items": null,
            "align_self": null,
            "border": null,
            "bottom": null,
            "display": null,
            "flex": null,
            "flex_flow": null,
            "grid_area": null,
            "grid_auto_columns": null,
            "grid_auto_flow": null,
            "grid_auto_rows": null,
            "grid_column": null,
            "grid_gap": null,
            "grid_row": null,
            "grid_template_areas": null,
            "grid_template_columns": null,
            "grid_template_rows": null,
            "height": null,
            "justify_content": null,
            "justify_items": null,
            "left": null,
            "margin": null,
            "max_height": null,
            "max_width": null,
            "min_height": null,
            "min_width": null,
            "object_fit": null,
            "object_position": null,
            "order": null,
            "overflow": null,
            "overflow_x": null,
            "overflow_y": null,
            "padding": null,
            "right": null,
            "top": null,
            "visibility": null,
            "width": null
          }
        },
        "ef87cd9ee653400e86b487682b3258a8": {
          "model_module": "@jupyter-widgets/controls",
          "model_name": "ProgressStyleModel",
          "model_module_version": "1.5.0",
          "state": {
            "_model_module": "@jupyter-widgets/controls",
            "_model_module_version": "1.5.0",
            "_model_name": "ProgressStyleModel",
            "_view_count": null,
            "_view_module": "@jupyter-widgets/base",
            "_view_module_version": "1.2.0",
            "_view_name": "StyleView",
            "bar_color": null,
            "description_width": ""
          }
        },
        "074fe7941dd046b9bb20fc2d20cd9262": {
          "model_module": "@jupyter-widgets/base",
          "model_name": "LayoutModel",
          "model_module_version": "1.2.0",
          "state": {
            "_model_module": "@jupyter-widgets/base",
            "_model_module_version": "1.2.0",
            "_model_name": "LayoutModel",
            "_view_count": null,
            "_view_module": "@jupyter-widgets/base",
            "_view_module_version": "1.2.0",
            "_view_name": "LayoutView",
            "align_content": null,
            "align_items": null,
            "align_self": null,
            "border": null,
            "bottom": null,
            "display": null,
            "flex": null,
            "flex_flow": null,
            "grid_area": null,
            "grid_auto_columns": null,
            "grid_auto_flow": null,
            "grid_auto_rows": null,
            "grid_column": null,
            "grid_gap": null,
            "grid_row": null,
            "grid_template_areas": null,
            "grid_template_columns": null,
            "grid_template_rows": null,
            "height": null,
            "justify_content": null,
            "justify_items": null,
            "left": null,
            "margin": null,
            "max_height": null,
            "max_width": null,
            "min_height": null,
            "min_width": null,
            "object_fit": null,
            "object_position": null,
            "order": null,
            "overflow": null,
            "overflow_x": null,
            "overflow_y": null,
            "padding": null,
            "right": null,
            "top": null,
            "visibility": null,
            "width": null
          }
        },
        "a25f66b54c15480fa6f808b748ab407c": {
          "model_module": "@jupyter-widgets/controls",
          "model_name": "DescriptionStyleModel",
          "model_module_version": "1.5.0",
          "state": {
            "_model_module": "@jupyter-widgets/controls",
            "_model_module_version": "1.5.0",
            "_model_name": "DescriptionStyleModel",
            "_view_count": null,
            "_view_module": "@jupyter-widgets/base",
            "_view_module_version": "1.2.0",
            "_view_name": "StyleView",
            "description_width": ""
          }
        }
      }
    },
    "accelerator": "GPU",
    "gpuClass": "standard"
  },
  "nbformat": 4,
  "nbformat_minor": 0
}