{
 "cells": [
  {
   "cell_type": "markdown",
   "metadata": {},
   "source": [
    "## Working with Streaming Datasets with Skorch\n",
    "This notebook demonstrates how to train a neural network classifier using streaming data with the skorch library. This approach is useful when working with large datasets that don't fit entirely in memory. This notebook was contributed by [Parag Ekbote](https://github.com/ParagEkbote).\n",
    "\n",
    "We will also implement a custom validation callback for compatibility with streaming data patterns\n",
    "\n",
    "Firstly you will need to install the following libraries: skorch and torch.\n",
    "\n",
    "<table align=\"left\"><td>\n",
    "<a target=\"_blank\" href=\"https://colab.research.google.com/github/skorch-dev/skorch/blob/master/notebooks/Streaming_Dataset.ipynb\">\n",
    "    <img src=\"https://www.tensorflow.org/images/colab_logo_32px.png\" />Run in Google Colab</a>  \n",
    "</td><td>\n",
    "<a target=\"_blank\" href=\"https://github.com/skorch-dev/skorch/blob/master/notebooks/Streaming_Datase.ipynb\"><img width=32px src=\"https://www.tensorflow.org/images/GitHub-Mark-32px.png\" />View source on GitHub</a></td></table>"
   ]
  },
  {
   "cell_type": "markdown",
   "metadata": {},
   "source": [
    "## Imports"
   ]
  },
  {
   "cell_type": "code",
   "execution_count": 1,
   "metadata": {},
   "outputs": [],
   "source": [
    "import torch\n",
    "from torch.utils.data import IterableDataset, DataLoader\n",
    "import torch.nn as nn\n",
    "import torch.nn.functional as F\n",
    "from skorch import NeuralNetClassifier\n",
    "from skorch.callbacks import Callback"
   ]
  },
  {
   "cell_type": "markdown",
   "metadata": {},
   "source": [
    "## Data Preparation\n",
    "\n",
    "In this example, we will use synthetic dataset for training the model. We will utilize the `IterableDataset` from PyTorch to create a binary classification dataset."
   ]
  },
  {
   "cell_type": "code",
   "execution_count": null,
   "metadata": {},
   "outputs": [],
   "source": [
    "class StreamingDataset(IterableDataset):\n",
    "    def __init__(self, length=1000, seed=42):\n",
    "        self.length = length\n",
    "        self.rng = torch.Generator().manual_seed(seed)\n",
    "\n",
    "    def __iter__(self):\n",
    "        for _ in range(self.length):\n",
    "            X = torch.randn(20, generator=self.rng)\n",
    "            y = torch.randint(0, 2, (1,), generator=self.rng).item()\n",
    "            yield X, y"
   ]
  },
  {
   "cell_type": "markdown",
   "metadata": {},
   "source": [
    "## Neural Network Parameters\n",
    "\n",
    "The SimpleClassifier is a neural network designed for binary classification tasks. It consists of an input layer, two hidden layers with ReLU activation functions, and a single output layer. The architecture is parameterized to allow flexibility in adjusting the input and hidden layer dimensions."
   ]
  },
  {
   "cell_type": "code",
   "execution_count": null,
   "metadata": {},
   "outputs": [],
   "source": [
    "class SimpleClassifier(nn.Module):\n",
    "    def __init__(self, input_dim=20, hidden_dim=50, output_dim=2):\n",
    "        super().__init__()\n",
    "        self.fc1 = nn.Linear(input_dim, hidden_dim)\n",
    "        self.fc2 = nn.Linear(hidden_dim, output_dim)\n",
    "\n",
    "    def forward(self, X):\n",
    "        X = F.relu(self.fc1(X))\n",
    "        return self.fc2(X)"
   ]
  },
  {
   "cell_type": "markdown",
   "metadata": {},
   "source": [
    "## Custom Callback\n",
    "\n",
    "We will now setup a validation callback for use during model training. The callback is defined to evaluate the model’s accuracy on a validation set at the end of each training epoch. The training dataset and  validation dataset are wrapped in Torch `DataLoader` to enable batch processing.\n",
    "\n",
    "Normally, callbacks with references to the data are not recommended to keep the model and training data separate. However, as we cannot use the traditional `train_split` for streaming datasets and since the data is streamed, this is okay here."
   ]
  },
  {
   "cell_type": "code",
   "execution_count": null,
   "metadata": {},
   "outputs": [],
   "source": [
    "#Create streaming datasets\n",
    "train_ds = StreamingDataset(length=1000, seed=0)\n",
    "valid_ds = StreamingDataset(length=200, seed=1)\n",
    "\n",
    "train_loader = DataLoader(train_ds, batch_size=16)\n",
    "valid_loader = DataLoader(valid_ds, batch_size=16)\n",
    "\n",
    "class StreamingValidationCallback(Callback):\n",
    "    def __init__(self, valid_loader, name='valid_acc'):\n",
    "        self.valid_loader = valid_loader\n",
    "        self.name = name\n",
    "    \n",
    "    def on_epoch_end(self, net, dataset_train, dataset_valid, **kwargs):\n",
    "        net.module_.eval()\n",
    "        correct = 0\n",
    "        total = 0\n",
    "        \n",
    "        with torch.no_grad():\n",
    "            for X_batch, y_batch in self.valid_loader:\n",
    "                X_batch = X_batch.to(net.device)\n",
    "                if isinstance(y_batch, (list, tuple)):\n",
    "                    y_batch = torch.tensor(y_batch).to(net.device)\n",
    "                else:\n",
    "                    y_batch = y_batch.to(net.device)\n",
    "                \n",
    "                outputs = net.module_(X_batch)\n",
    "                _, predicted = torch.max(outputs.data, 1)\n",
    "                total += y_batch.size(0)\n",
    "                correct += (predicted == y_batch).sum().item()\n",
    "        \n",
    "        accuracy = correct / total\n",
    "        print(f\"  {self.name}: {accuracy:.4f}\")\n",
    "        net.history.record(self.name, accuracy)\n",
    "\n",
    "valid_ds_for_callback = StreamingDataset(length=200, seed=1)\n",
    "valid_loader_for_callback = DataLoader(valid_ds_for_callback, batch_size=16)\n",
    "\n"
   ]
  },
  {
   "cell_type": "markdown",
   "metadata": {},
   "source": [
    "## Model Training and Result\n",
    "\n",
    "We will now wrap the neural net classifier with the torch model and use `DataLoader` to create data batches. We will also add the custom validation callback separately from the training loop. It is important to note that since we are using `IterableDataset`, we have to set the `train_split` to `None`, since streaming data cannot be split in advance.\n",
    "\n",
    "We will now train the neural network and observe that the training has been completed successfully."
   ]
  },
  {
   "cell_type": "code",
   "execution_count": null,
   "metadata": {},
   "outputs": [],
   "source": [
    "net = NeuralNetClassifier(\n",
    "    module=SimpleClassifier,\n",
    "    module__input_dim=20,\n",
    "    module__hidden_dim=50,\n",
    "    module__output_dim=2,\n",
    "    max_epochs=5,\n",
    "    lr=0.01,\n",
    "    criterion=nn.CrossEntropyLoss,\n",
    "    iterator_train=DataLoader,\n",
    "    train_split=None,  \n",
    "    callbacks=[\n",
    "        StreamingValidationCallback(valid_loader_for_callback, name='valid_acc'),\n",
    "    ],\n",
    "    device='cuda' if torch.cuda.is_available() else 'cpu',\n",
    "    verbose=1,\n",
    ")\n",
    "\n",
    "net.fit(train_ds, y=None) "
   ]
  }
 ],
 "metadata": {
  "language_info": {
   "name": "python"
  }
 },
 "nbformat": 4,
 "nbformat_minor": 2
}
